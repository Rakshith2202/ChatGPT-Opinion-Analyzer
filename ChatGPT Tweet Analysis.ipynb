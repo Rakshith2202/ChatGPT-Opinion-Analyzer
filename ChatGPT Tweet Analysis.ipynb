{
 "cells": [
  {
   "cell_type": "code",
   "execution_count": 1,
   "id": "55c8c19a",
   "metadata": {},
   "outputs": [],
   "source": [
    "import pandas as pd\n",
    "import numpy as np\n",
    "import seaborn as sns\n",
    "import matplotlib.pyplot as plt"
   ]
  },
  {
   "cell_type": "code",
   "execution_count": 2,
   "id": "acdf0b70",
   "metadata": {},
   "outputs": [
    {
     "data": {
      "text/html": [
       "<div>\n",
       "<style scoped>\n",
       "    .dataframe tbody tr th:only-of-type {\n",
       "        vertical-align: middle;\n",
       "    }\n",
       "\n",
       "    .dataframe tbody tr th {\n",
       "        vertical-align: top;\n",
       "    }\n",
       "\n",
       "    .dataframe thead th {\n",
       "        text-align: right;\n",
       "    }\n",
       "</style>\n",
       "<table border=\"1\" class=\"dataframe\">\n",
       "  <thead>\n",
       "    <tr style=\"text-align: right;\">\n",
       "      <th></th>\n",
       "      <th>date</th>\n",
       "      <th>id</th>\n",
       "      <th>content</th>\n",
       "      <th>username</th>\n",
       "      <th>like_count</th>\n",
       "      <th>retweet_count</th>\n",
       "    </tr>\n",
       "  </thead>\n",
       "  <tbody>\n",
       "    <tr>\n",
       "      <th>0</th>\n",
       "      <td>2023-03-29 22:58:21+00:00</td>\n",
       "      <td>1641213230730051584</td>\n",
       "      <td>Free AI marketing and automation tools, strate...</td>\n",
       "      <td>RealProfitPros</td>\n",
       "      <td>0.0</td>\n",
       "      <td>0.0</td>\n",
       "    </tr>\n",
       "    <tr>\n",
       "      <th>1</th>\n",
       "      <td>2023-03-29 22:58:18+00:00</td>\n",
       "      <td>1641213218520481805</td>\n",
       "      <td>@MecoleHardman4 Chat GPT says it’s 15. 😂</td>\n",
       "      <td>AmyLouWho321</td>\n",
       "      <td>0.0</td>\n",
       "      <td>0.0</td>\n",
       "    </tr>\n",
       "    <tr>\n",
       "      <th>2</th>\n",
       "      <td>2023-03-29 22:57:53+00:00</td>\n",
       "      <td>1641213115684536323</td>\n",
       "      <td>https://t.co/FjJSprt0te - Chat with any PDF!\\n...</td>\n",
       "      <td>yjleon1976</td>\n",
       "      <td>0.0</td>\n",
       "      <td>0.0</td>\n",
       "    </tr>\n",
       "    <tr>\n",
       "      <th>3</th>\n",
       "      <td>2023-03-29 22:57:52+00:00</td>\n",
       "      <td>1641213110915571715</td>\n",
       "      <td>AI muses: \"In the court of life, we must all f...</td>\n",
       "      <td>ChatGPT_Thinks</td>\n",
       "      <td>0.0</td>\n",
       "      <td>0.0</td>\n",
       "    </tr>\n",
       "    <tr>\n",
       "      <th>4</th>\n",
       "      <td>2023-03-29 22:57:26+00:00</td>\n",
       "      <td>1641213003260633088</td>\n",
       "      <td>Most people haven't heard of Chat GPT yet.\\nFi...</td>\n",
       "      <td>nikocosmonaut</td>\n",
       "      <td>0.0</td>\n",
       "      <td>0.0</td>\n",
       "    </tr>\n",
       "  </tbody>\n",
       "</table>\n",
       "</div>"
      ],
      "text/plain": [
       "                        date                   id  \\\n",
       "0  2023-03-29 22:58:21+00:00  1641213230730051584   \n",
       "1  2023-03-29 22:58:18+00:00  1641213218520481805   \n",
       "2  2023-03-29 22:57:53+00:00  1641213115684536323   \n",
       "3  2023-03-29 22:57:52+00:00  1641213110915571715   \n",
       "4  2023-03-29 22:57:26+00:00  1641213003260633088   \n",
       "\n",
       "                                             content        username  \\\n",
       "0  Free AI marketing and automation tools, strate...  RealProfitPros   \n",
       "1           @MecoleHardman4 Chat GPT says it’s 15. 😂    AmyLouWho321   \n",
       "2  https://t.co/FjJSprt0te - Chat with any PDF!\\n...      yjleon1976   \n",
       "3  AI muses: \"In the court of life, we must all f...  ChatGPT_Thinks   \n",
       "4  Most people haven't heard of Chat GPT yet.\\nFi...   nikocosmonaut   \n",
       "\n",
       "   like_count  retweet_count  \n",
       "0         0.0            0.0  \n",
       "1         0.0            0.0  \n",
       "2         0.0            0.0  \n",
       "3         0.0            0.0  \n",
       "4         0.0            0.0  "
      ]
     },
     "execution_count": 2,
     "metadata": {},
     "output_type": "execute_result"
    }
   ],
   "source": [
    "df = pd.read_csv('Dataset/Twitter Jan Mar.csv')\n",
    "df.head()"
   ]
  },
  {
   "cell_type": "code",
   "execution_count": 3,
   "id": "ab45ad00",
   "metadata": {},
   "outputs": [
    {
     "data": {
      "text/html": [
       "<div>\n",
       "<style scoped>\n",
       "    .dataframe tbody tr th:only-of-type {\n",
       "        vertical-align: middle;\n",
       "    }\n",
       "\n",
       "    .dataframe tbody tr th {\n",
       "        vertical-align: top;\n",
       "    }\n",
       "\n",
       "    .dataframe thead th {\n",
       "        text-align: right;\n",
       "    }\n",
       "</style>\n",
       "<table border=\"1\" class=\"dataframe\">\n",
       "  <thead>\n",
       "    <tr style=\"text-align: right;\">\n",
       "      <th></th>\n",
       "      <th>date</th>\n",
       "      <th>id</th>\n",
       "      <th>content</th>\n",
       "      <th>username</th>\n",
       "      <th>like_count</th>\n",
       "      <th>retweet_count</th>\n",
       "    </tr>\n",
       "  </thead>\n",
       "  <tbody>\n",
       "    <tr>\n",
       "      <th>500031</th>\n",
       "      <td>2023-01-04 07:18:08+00:00</td>\n",
       "      <td>1610536038094757888</td>\n",
       "      <td>@GoogleAI #LAMDA Versus @OpenAI #ChatGPT ?! Wh...</td>\n",
       "      <td>Pup_In_Cup</td>\n",
       "      <td>1.0</td>\n",
       "      <td>0.0</td>\n",
       "    </tr>\n",
       "    <tr>\n",
       "      <th>500032</th>\n",
       "      <td>2023-01-04 07:17:50+00:00</td>\n",
       "      <td>1610535961670172674</td>\n",
       "      <td>#ChatGPT \\n\\nSo much #Censorship.\\n\\nNever tru...</td>\n",
       "      <td>TryingToOffend</td>\n",
       "      <td>2.0</td>\n",
       "      <td>0.0</td>\n",
       "    </tr>\n",
       "    <tr>\n",
       "      <th>500033</th>\n",
       "      <td>2023-01-04 07:17:20+00:00</td>\n",
       "      <td>1610535837363486720</td>\n",
       "      <td>all my twitter feed is about ChatGPT and @Open...</td>\n",
       "      <td>mcp350</td>\n",
       "      <td>3.0</td>\n",
       "      <td>1.0</td>\n",
       "    </tr>\n",
       "    <tr>\n",
       "      <th>500034</th>\n",
       "      <td>2023-01-04 07:17:08+00:00</td>\n",
       "      <td>1610535786017091584</td>\n",
       "      <td>I'm quite amazed by Chat GPT. A really promisi...</td>\n",
       "      <td>manumurali369</td>\n",
       "      <td>1.0</td>\n",
       "      <td>0.0</td>\n",
       "    </tr>\n",
       "    <tr>\n",
       "      <th>500035</th>\n",
       "      <td>2023-01-04 07:16:56+00:00</td>\n",
       "      <td>1610535734758219778</td>\n",
       "      <td>I used chat gpt to get gym workout program and...</td>\n",
       "      <td>pnik91</td>\n",
       "      <td>0.0</td>\n",
       "      <td>0.0</td>\n",
       "    </tr>\n",
       "  </tbody>\n",
       "</table>\n",
       "</div>"
      ],
      "text/plain": [
       "                             date                   id  \\\n",
       "500031  2023-01-04 07:18:08+00:00  1610536038094757888   \n",
       "500032  2023-01-04 07:17:50+00:00  1610535961670172674   \n",
       "500033  2023-01-04 07:17:20+00:00  1610535837363486720   \n",
       "500034  2023-01-04 07:17:08+00:00  1610535786017091584   \n",
       "500035  2023-01-04 07:16:56+00:00  1610535734758219778   \n",
       "\n",
       "                                                  content        username  \\\n",
       "500031  @GoogleAI #LAMDA Versus @OpenAI #ChatGPT ?! Wh...      Pup_In_Cup   \n",
       "500032  #ChatGPT \\n\\nSo much #Censorship.\\n\\nNever tru...  TryingToOffend   \n",
       "500033  all my twitter feed is about ChatGPT and @Open...          mcp350   \n",
       "500034  I'm quite amazed by Chat GPT. A really promisi...   manumurali369   \n",
       "500035  I used chat gpt to get gym workout program and...          pnik91   \n",
       "\n",
       "        like_count  retweet_count  \n",
       "500031         1.0            0.0  \n",
       "500032         2.0            0.0  \n",
       "500033         3.0            1.0  \n",
       "500034         1.0            0.0  \n",
       "500035         0.0            0.0  "
      ]
     },
     "execution_count": 3,
     "metadata": {},
     "output_type": "execute_result"
    }
   ],
   "source": [
    "df.tail()"
   ]
  },
  {
   "cell_type": "code",
   "execution_count": 4,
   "id": "1546d227",
   "metadata": {},
   "outputs": [
    {
     "data": {
      "text/plain": [
       "(500036, 6)"
      ]
     },
     "execution_count": 4,
     "metadata": {},
     "output_type": "execute_result"
    }
   ],
   "source": [
    "df.shape"
   ]
  },
  {
   "cell_type": "code",
   "execution_count": 5,
   "id": "4afcf2e1",
   "metadata": {},
   "outputs": [
    {
     "data": {
      "text/plain": [
       "<bound method NDFrame.describe of                              date                   id  \\\n",
       "0       2023-03-29 22:58:21+00:00  1641213230730051584   \n",
       "1       2023-03-29 22:58:18+00:00  1641213218520481805   \n",
       "2       2023-03-29 22:57:53+00:00  1641213115684536323   \n",
       "3       2023-03-29 22:57:52+00:00  1641213110915571715   \n",
       "4       2023-03-29 22:57:26+00:00  1641213003260633088   \n",
       "...                           ...                  ...   \n",
       "500031  2023-01-04 07:18:08+00:00  1610536038094757888   \n",
       "500032  2023-01-04 07:17:50+00:00  1610535961670172674   \n",
       "500033  2023-01-04 07:17:20+00:00  1610535837363486720   \n",
       "500034  2023-01-04 07:17:08+00:00  1610535786017091584   \n",
       "500035  2023-01-04 07:16:56+00:00  1610535734758219778   \n",
       "\n",
       "                                                  content        username  \\\n",
       "0       Free AI marketing and automation tools, strate...  RealProfitPros   \n",
       "1                @MecoleHardman4 Chat GPT says it’s 15. 😂    AmyLouWho321   \n",
       "2       https://t.co/FjJSprt0te - Chat with any PDF!\\n...      yjleon1976   \n",
       "3       AI muses: \"In the court of life, we must all f...  ChatGPT_Thinks   \n",
       "4       Most people haven't heard of Chat GPT yet.\\nFi...   nikocosmonaut   \n",
       "...                                                   ...             ...   \n",
       "500031  @GoogleAI #LAMDA Versus @OpenAI #ChatGPT ?! Wh...      Pup_In_Cup   \n",
       "500032  #ChatGPT \\n\\nSo much #Censorship.\\n\\nNever tru...  TryingToOffend   \n",
       "500033  all my twitter feed is about ChatGPT and @Open...          mcp350   \n",
       "500034  I'm quite amazed by Chat GPT. A really promisi...   manumurali369   \n",
       "500035  I used chat gpt to get gym workout program and...          pnik91   \n",
       "\n",
       "        like_count  retweet_count  \n",
       "0              0.0            0.0  \n",
       "1              0.0            0.0  \n",
       "2              0.0            0.0  \n",
       "3              0.0            0.0  \n",
       "4              0.0            0.0  \n",
       "...            ...            ...  \n",
       "500031         1.0            0.0  \n",
       "500032         2.0            0.0  \n",
       "500033         3.0            1.0  \n",
       "500034         1.0            0.0  \n",
       "500035         0.0            0.0  \n",
       "\n",
       "[500036 rows x 6 columns]>"
      ]
     },
     "execution_count": 5,
     "metadata": {},
     "output_type": "execute_result"
    }
   ],
   "source": [
    "df.describe"
   ]
  },
  {
   "cell_type": "code",
   "execution_count": 6,
   "id": "0c6123f7",
   "metadata": {},
   "outputs": [
    {
     "data": {
      "text/plain": [
       "<bound method DataFrame.info of                              date                   id  \\\n",
       "0       2023-03-29 22:58:21+00:00  1641213230730051584   \n",
       "1       2023-03-29 22:58:18+00:00  1641213218520481805   \n",
       "2       2023-03-29 22:57:53+00:00  1641213115684536323   \n",
       "3       2023-03-29 22:57:52+00:00  1641213110915571715   \n",
       "4       2023-03-29 22:57:26+00:00  1641213003260633088   \n",
       "...                           ...                  ...   \n",
       "500031  2023-01-04 07:18:08+00:00  1610536038094757888   \n",
       "500032  2023-01-04 07:17:50+00:00  1610535961670172674   \n",
       "500033  2023-01-04 07:17:20+00:00  1610535837363486720   \n",
       "500034  2023-01-04 07:17:08+00:00  1610535786017091584   \n",
       "500035  2023-01-04 07:16:56+00:00  1610535734758219778   \n",
       "\n",
       "                                                  content        username  \\\n",
       "0       Free AI marketing and automation tools, strate...  RealProfitPros   \n",
       "1                @MecoleHardman4 Chat GPT says it’s 15. 😂    AmyLouWho321   \n",
       "2       https://t.co/FjJSprt0te - Chat with any PDF!\\n...      yjleon1976   \n",
       "3       AI muses: \"In the court of life, we must all f...  ChatGPT_Thinks   \n",
       "4       Most people haven't heard of Chat GPT yet.\\nFi...   nikocosmonaut   \n",
       "...                                                   ...             ...   \n",
       "500031  @GoogleAI #LAMDA Versus @OpenAI #ChatGPT ?! Wh...      Pup_In_Cup   \n",
       "500032  #ChatGPT \\n\\nSo much #Censorship.\\n\\nNever tru...  TryingToOffend   \n",
       "500033  all my twitter feed is about ChatGPT and @Open...          mcp350   \n",
       "500034  I'm quite amazed by Chat GPT. A really promisi...   manumurali369   \n",
       "500035  I used chat gpt to get gym workout program and...          pnik91   \n",
       "\n",
       "        like_count  retweet_count  \n",
       "0              0.0            0.0  \n",
       "1              0.0            0.0  \n",
       "2              0.0            0.0  \n",
       "3              0.0            0.0  \n",
       "4              0.0            0.0  \n",
       "...            ...            ...  \n",
       "500031         1.0            0.0  \n",
       "500032         2.0            0.0  \n",
       "500033         3.0            1.0  \n",
       "500034         1.0            0.0  \n",
       "500035         0.0            0.0  \n",
       "\n",
       "[500036 rows x 6 columns]>"
      ]
     },
     "execution_count": 6,
     "metadata": {},
     "output_type": "execute_result"
    }
   ],
   "source": [
    "df.info"
   ]
  },
  {
   "cell_type": "code",
   "execution_count": 7,
   "id": "4f75875c",
   "metadata": {},
   "outputs": [],
   "source": [
    "import string\n",
    "import re"
   ]
  },
  {
   "cell_type": "code",
   "execution_count": 8,
   "id": "8aa5a02c",
   "metadata": {},
   "outputs": [
    {
     "data": {
      "text/plain": [
       "'!\"#$%&\\'()*+,-./:;<=>?@[\\\\]^_`{|}~'"
      ]
     },
     "execution_count": 8,
     "metadata": {},
     "output_type": "execute_result"
    }
   ],
   "source": [
    "string.punctuation"
   ]
  },
  {
   "cell_type": "markdown",
   "id": "5eb82d14",
   "metadata": {},
   "source": [
    "Removing Punctuations"
   ]
  },
  {
   "cell_type": "code",
   "execution_count": 9,
   "id": "99d68b36",
   "metadata": {},
   "outputs": [],
   "source": [
    "def remove_punct(text):\n",
    "    text = re.sub('@[^\\s]+','',text)\n",
    "    text = re.sub(r'[^\\w\\n]+','',text)\n",
    "    text  = \"\".join([char for char in text if char not in string.punctuation])\n",
    "    return text"
   ]
  },
  {
   "cell_type": "code",
   "execution_count": 10,
   "id": "7d2b1b68",
   "metadata": {},
   "outputs": [],
   "source": [
    "df['tweet'] = df['content'].apply(lambda x: remove_punct(str(x)))"
   ]
  },
  {
   "cell_type": "code",
   "execution_count": 11,
   "id": "91506453",
   "metadata": {},
   "outputs": [
    {
     "data": {
      "text/html": [
       "<div>\n",
       "<style scoped>\n",
       "    .dataframe tbody tr th:only-of-type {\n",
       "        vertical-align: middle;\n",
       "    }\n",
       "\n",
       "    .dataframe tbody tr th {\n",
       "        vertical-align: top;\n",
       "    }\n",
       "\n",
       "    .dataframe thead th {\n",
       "        text-align: right;\n",
       "    }\n",
       "</style>\n",
       "<table border=\"1\" class=\"dataframe\">\n",
       "  <thead>\n",
       "    <tr style=\"text-align: right;\">\n",
       "      <th></th>\n",
       "      <th>date</th>\n",
       "      <th>id</th>\n",
       "      <th>content</th>\n",
       "      <th>username</th>\n",
       "      <th>like_count</th>\n",
       "      <th>retweet_count</th>\n",
       "      <th>tweet</th>\n",
       "    </tr>\n",
       "  </thead>\n",
       "  <tbody>\n",
       "    <tr>\n",
       "      <th>0</th>\n",
       "      <td>2023-03-29 22:58:21+00:00</td>\n",
       "      <td>1641213230730051584</td>\n",
       "      <td>Free AI marketing and automation tools, strate...</td>\n",
       "      <td>RealProfitPros</td>\n",
       "      <td>0.0</td>\n",
       "      <td>0.0</td>\n",
       "      <td>FreeAImarketingandautomationtoolsstrategiesand...</td>\n",
       "    </tr>\n",
       "    <tr>\n",
       "      <th>1</th>\n",
       "      <td>2023-03-29 22:58:18+00:00</td>\n",
       "      <td>1641213218520481805</td>\n",
       "      <td>@MecoleHardman4 Chat GPT says it’s 15. 😂</td>\n",
       "      <td>AmyLouWho321</td>\n",
       "      <td>0.0</td>\n",
       "      <td>0.0</td>\n",
       "      <td>ChatGPTsaysits15</td>\n",
       "    </tr>\n",
       "    <tr>\n",
       "      <th>2</th>\n",
       "      <td>2023-03-29 22:57:53+00:00</td>\n",
       "      <td>1641213115684536323</td>\n",
       "      <td>https://t.co/FjJSprt0te - Chat with any PDF!\\n...</td>\n",
       "      <td>yjleon1976</td>\n",
       "      <td>0.0</td>\n",
       "      <td>0.0</td>\n",
       "      <td>httpstcoFjJSprt0teChatwithanyPDF\\nCheckouthowt...</td>\n",
       "    </tr>\n",
       "    <tr>\n",
       "      <th>3</th>\n",
       "      <td>2023-03-29 22:57:52+00:00</td>\n",
       "      <td>1641213110915571715</td>\n",
       "      <td>AI muses: \"In the court of life, we must all f...</td>\n",
       "      <td>ChatGPT_Thinks</td>\n",
       "      <td>0.0</td>\n",
       "      <td>0.0</td>\n",
       "      <td>AImusesInthecourtoflifewemustallfacethejudgeof...</td>\n",
       "    </tr>\n",
       "    <tr>\n",
       "      <th>4</th>\n",
       "      <td>2023-03-29 22:57:26+00:00</td>\n",
       "      <td>1641213003260633088</td>\n",
       "      <td>Most people haven't heard of Chat GPT yet.\\nFi...</td>\n",
       "      <td>nikocosmonaut</td>\n",
       "      <td>0.0</td>\n",
       "      <td>0.0</td>\n",
       "      <td>MostpeoplehaventheardofChatGPTyet\\nFirstelitef...</td>\n",
       "    </tr>\n",
       "  </tbody>\n",
       "</table>\n",
       "</div>"
      ],
      "text/plain": [
       "                        date                   id  \\\n",
       "0  2023-03-29 22:58:21+00:00  1641213230730051584   \n",
       "1  2023-03-29 22:58:18+00:00  1641213218520481805   \n",
       "2  2023-03-29 22:57:53+00:00  1641213115684536323   \n",
       "3  2023-03-29 22:57:52+00:00  1641213110915571715   \n",
       "4  2023-03-29 22:57:26+00:00  1641213003260633088   \n",
       "\n",
       "                                             content        username  \\\n",
       "0  Free AI marketing and automation tools, strate...  RealProfitPros   \n",
       "1           @MecoleHardman4 Chat GPT says it’s 15. 😂    AmyLouWho321   \n",
       "2  https://t.co/FjJSprt0te - Chat with any PDF!\\n...      yjleon1976   \n",
       "3  AI muses: \"In the court of life, we must all f...  ChatGPT_Thinks   \n",
       "4  Most people haven't heard of Chat GPT yet.\\nFi...   nikocosmonaut   \n",
       "\n",
       "   like_count  retweet_count  \\\n",
       "0         0.0            0.0   \n",
       "1         0.0            0.0   \n",
       "2         0.0            0.0   \n",
       "3         0.0            0.0   \n",
       "4         0.0            0.0   \n",
       "\n",
       "                                               tweet  \n",
       "0  FreeAImarketingandautomationtoolsstrategiesand...  \n",
       "1                                   ChatGPTsaysits15  \n",
       "2  httpstcoFjJSprt0teChatwithanyPDF\\nCheckouthowt...  \n",
       "3  AImusesInthecourtoflifewemustallfacethejudgeof...  \n",
       "4  MostpeoplehaventheardofChatGPTyet\\nFirstelitef...  "
      ]
     },
     "execution_count": 11,
     "metadata": {},
     "output_type": "execute_result"
    }
   ],
   "source": [
    "df.head()"
   ]
  },
  {
   "cell_type": "markdown",
   "id": "e705ccd5",
   "metadata": {},
   "source": [
    "Tokenization"
   ]
  },
  {
   "cell_type": "code",
   "execution_count": 12,
   "id": "11baf150",
   "metadata": {},
   "outputs": [],
   "source": [
    "def tokenization(text):\n",
    "    text = re.split('\\W+', text)\n",
    "    return text\n",
    "\n",
    "df[\"tokenized_tweet\"] = df[\"tweet\"].apply(lambda x: tokenization(x.lower()))"
   ]
  },
  {
   "cell_type": "code",
   "execution_count": 13,
   "id": "7cda380c",
   "metadata": {},
   "outputs": [
    {
     "data": {
      "text/html": [
       "<div>\n",
       "<style scoped>\n",
       "    .dataframe tbody tr th:only-of-type {\n",
       "        vertical-align: middle;\n",
       "    }\n",
       "\n",
       "    .dataframe tbody tr th {\n",
       "        vertical-align: top;\n",
       "    }\n",
       "\n",
       "    .dataframe thead th {\n",
       "        text-align: right;\n",
       "    }\n",
       "</style>\n",
       "<table border=\"1\" class=\"dataframe\">\n",
       "  <thead>\n",
       "    <tr style=\"text-align: right;\">\n",
       "      <th></th>\n",
       "      <th>date</th>\n",
       "      <th>id</th>\n",
       "      <th>content</th>\n",
       "      <th>username</th>\n",
       "      <th>like_count</th>\n",
       "      <th>retweet_count</th>\n",
       "      <th>tweet</th>\n",
       "      <th>tokenized_tweet</th>\n",
       "    </tr>\n",
       "  </thead>\n",
       "  <tbody>\n",
       "    <tr>\n",
       "      <th>500031</th>\n",
       "      <td>2023-01-04 07:18:08+00:00</td>\n",
       "      <td>1610536038094757888</td>\n",
       "      <td>@GoogleAI #LAMDA Versus @OpenAI #ChatGPT ?! Wh...</td>\n",
       "      <td>Pup_In_Cup</td>\n",
       "      <td>1.0</td>\n",
       "      <td>0.0</td>\n",
       "      <td>LAMDAVersusChatGPTWhocaresLamdaisntavailableCh...</td>\n",
       "      <td>[lamdaversuschatgptwhocareslamdaisntavailablec...</td>\n",
       "    </tr>\n",
       "    <tr>\n",
       "      <th>500032</th>\n",
       "      <td>2023-01-04 07:17:50+00:00</td>\n",
       "      <td>1610535961670172674</td>\n",
       "      <td>#ChatGPT \\n\\nSo much #Censorship.\\n\\nNever tru...</td>\n",
       "      <td>TryingToOffend</td>\n",
       "      <td>2.0</td>\n",
       "      <td>0.0</td>\n",
       "      <td>ChatGPT\\n\\nSomuchCensorship\\n\\nNevertrustasyst...</td>\n",
       "      <td>[chatgpt, somuchcensorship, nevertrustasystemy...</td>\n",
       "    </tr>\n",
       "    <tr>\n",
       "      <th>500033</th>\n",
       "      <td>2023-01-04 07:17:20+00:00</td>\n",
       "      <td>1610535837363486720</td>\n",
       "      <td>all my twitter feed is about ChatGPT and @Open...</td>\n",
       "      <td>mcp350</td>\n",
       "      <td>3.0</td>\n",
       "      <td>1.0</td>\n",
       "      <td>allmytwitterfeedisaboutChatGPTandlol\\n\\nAIChatGPT</td>\n",
       "      <td>[allmytwitterfeedisaboutchatgptandlol, aichatgpt]</td>\n",
       "    </tr>\n",
       "    <tr>\n",
       "      <th>500034</th>\n",
       "      <td>2023-01-04 07:17:08+00:00</td>\n",
       "      <td>1610535786017091584</td>\n",
       "      <td>I'm quite amazed by Chat GPT. A really promisi...</td>\n",
       "      <td>manumurali369</td>\n",
       "      <td>1.0</td>\n",
       "      <td>0.0</td>\n",
       "      <td>ImquiteamazedbyChatGPTAreallypromisingpersonan...</td>\n",
       "      <td>[imquiteamazedbychatgptareallypromisingpersona...</td>\n",
       "    </tr>\n",
       "    <tr>\n",
       "      <th>500035</th>\n",
       "      <td>2023-01-04 07:16:56+00:00</td>\n",
       "      <td>1610535734758219778</td>\n",
       "      <td>I used chat gpt to get gym workout program and...</td>\n",
       "      <td>pnik91</td>\n",
       "      <td>0.0</td>\n",
       "      <td>0.0</td>\n",
       "      <td>Iusedchatgpttogetgymworkoutprogramanditwassogo...</td>\n",
       "      <td>[iusedchatgpttogetgymworkoutprogramanditwassog...</td>\n",
       "    </tr>\n",
       "  </tbody>\n",
       "</table>\n",
       "</div>"
      ],
      "text/plain": [
       "                             date                   id  \\\n",
       "500031  2023-01-04 07:18:08+00:00  1610536038094757888   \n",
       "500032  2023-01-04 07:17:50+00:00  1610535961670172674   \n",
       "500033  2023-01-04 07:17:20+00:00  1610535837363486720   \n",
       "500034  2023-01-04 07:17:08+00:00  1610535786017091584   \n",
       "500035  2023-01-04 07:16:56+00:00  1610535734758219778   \n",
       "\n",
       "                                                  content        username  \\\n",
       "500031  @GoogleAI #LAMDA Versus @OpenAI #ChatGPT ?! Wh...      Pup_In_Cup   \n",
       "500032  #ChatGPT \\n\\nSo much #Censorship.\\n\\nNever tru...  TryingToOffend   \n",
       "500033  all my twitter feed is about ChatGPT and @Open...          mcp350   \n",
       "500034  I'm quite amazed by Chat GPT. A really promisi...   manumurali369   \n",
       "500035  I used chat gpt to get gym workout program and...          pnik91   \n",
       "\n",
       "        like_count  retweet_count  \\\n",
       "500031         1.0            0.0   \n",
       "500032         2.0            0.0   \n",
       "500033         3.0            1.0   \n",
       "500034         1.0            0.0   \n",
       "500035         0.0            0.0   \n",
       "\n",
       "                                                    tweet  \\\n",
       "500031  LAMDAVersusChatGPTWhocaresLamdaisntavailableCh...   \n",
       "500032  ChatGPT\\n\\nSomuchCensorship\\n\\nNevertrustasyst...   \n",
       "500033  allmytwitterfeedisaboutChatGPTandlol\\n\\nAIChatGPT   \n",
       "500034  ImquiteamazedbyChatGPTAreallypromisingpersonan...   \n",
       "500035  Iusedchatgpttogetgymworkoutprogramanditwassogo...   \n",
       "\n",
       "                                          tokenized_tweet  \n",
       "500031  [lamdaversuschatgptwhocareslamdaisntavailablec...  \n",
       "500032  [chatgpt, somuchcensorship, nevertrustasystemy...  \n",
       "500033  [allmytwitterfeedisaboutchatgptandlol, aichatgpt]  \n",
       "500034  [imquiteamazedbychatgptareallypromisingpersona...  \n",
       "500035  [iusedchatgpttogetgymworkoutprogramanditwassog...  "
      ]
     },
     "execution_count": 13,
     "metadata": {},
     "output_type": "execute_result"
    }
   ],
   "source": [
    "df.tail()"
   ]
  },
  {
   "cell_type": "markdown",
   "id": "83ec67fe",
   "metadata": {},
   "source": [
    "Removing Stop Words"
   ]
  },
  {
   "cell_type": "code",
   "execution_count": 14,
   "id": "577b0afd",
   "metadata": {},
   "outputs": [],
   "source": [
    "import nltk"
   ]
  },
  {
   "cell_type": "code",
   "execution_count": 15,
   "id": "842ca06b",
   "metadata": {},
   "outputs": [],
   "source": [
    "stop_words = nltk.corpus.stopwords.words('english')\n",
    "\n",
    "def remove_stopwords(text):\n",
    "    text = [word for word in text if word not in stop_words]\n",
    "    return text"
   ]
  },
  {
   "cell_type": "code",
   "execution_count": 16,
   "id": "0201d1d3",
   "metadata": {},
   "outputs": [],
   "source": [
    "df['no_stopwords'] = df['tokenized_tweet'].apply(lambda x: remove_stopwords(x))"
   ]
  },
  {
   "cell_type": "code",
   "execution_count": 17,
   "id": "8bd30eaf",
   "metadata": {},
   "outputs": [
    {
     "data": {
      "text/html": [
       "<div>\n",
       "<style scoped>\n",
       "    .dataframe tbody tr th:only-of-type {\n",
       "        vertical-align: middle;\n",
       "    }\n",
       "\n",
       "    .dataframe tbody tr th {\n",
       "        vertical-align: top;\n",
       "    }\n",
       "\n",
       "    .dataframe thead th {\n",
       "        text-align: right;\n",
       "    }\n",
       "</style>\n",
       "<table border=\"1\" class=\"dataframe\">\n",
       "  <thead>\n",
       "    <tr style=\"text-align: right;\">\n",
       "      <th></th>\n",
       "      <th>date</th>\n",
       "      <th>id</th>\n",
       "      <th>content</th>\n",
       "      <th>username</th>\n",
       "      <th>like_count</th>\n",
       "      <th>retweet_count</th>\n",
       "      <th>tweet</th>\n",
       "      <th>tokenized_tweet</th>\n",
       "      <th>no_stopwords</th>\n",
       "    </tr>\n",
       "  </thead>\n",
       "  <tbody>\n",
       "    <tr>\n",
       "      <th>500031</th>\n",
       "      <td>2023-01-04 07:18:08+00:00</td>\n",
       "      <td>1610536038094757888</td>\n",
       "      <td>@GoogleAI #LAMDA Versus @OpenAI #ChatGPT ?! Wh...</td>\n",
       "      <td>Pup_In_Cup</td>\n",
       "      <td>1.0</td>\n",
       "      <td>0.0</td>\n",
       "      <td>LAMDAVersusChatGPTWhocaresLamdaisntavailableCh...</td>\n",
       "      <td>[lamdaversuschatgptwhocareslamdaisntavailablec...</td>\n",
       "      <td>[lamdaversuschatgptwhocareslamdaisntavailablec...</td>\n",
       "    </tr>\n",
       "    <tr>\n",
       "      <th>500032</th>\n",
       "      <td>2023-01-04 07:17:50+00:00</td>\n",
       "      <td>1610535961670172674</td>\n",
       "      <td>#ChatGPT \\n\\nSo much #Censorship.\\n\\nNever tru...</td>\n",
       "      <td>TryingToOffend</td>\n",
       "      <td>2.0</td>\n",
       "      <td>0.0</td>\n",
       "      <td>ChatGPT\\n\\nSomuchCensorship\\n\\nNevertrustasyst...</td>\n",
       "      <td>[chatgpt, somuchcensorship, nevertrustasystemy...</td>\n",
       "      <td>[chatgpt, somuchcensorship, nevertrustasystemy...</td>\n",
       "    </tr>\n",
       "    <tr>\n",
       "      <th>500033</th>\n",
       "      <td>2023-01-04 07:17:20+00:00</td>\n",
       "      <td>1610535837363486720</td>\n",
       "      <td>all my twitter feed is about ChatGPT and @Open...</td>\n",
       "      <td>mcp350</td>\n",
       "      <td>3.0</td>\n",
       "      <td>1.0</td>\n",
       "      <td>allmytwitterfeedisaboutChatGPTandlol\\n\\nAIChatGPT</td>\n",
       "      <td>[allmytwitterfeedisaboutchatgptandlol, aichatgpt]</td>\n",
       "      <td>[allmytwitterfeedisaboutchatgptandlol, aichatgpt]</td>\n",
       "    </tr>\n",
       "    <tr>\n",
       "      <th>500034</th>\n",
       "      <td>2023-01-04 07:17:08+00:00</td>\n",
       "      <td>1610535786017091584</td>\n",
       "      <td>I'm quite amazed by Chat GPT. A really promisi...</td>\n",
       "      <td>manumurali369</td>\n",
       "      <td>1.0</td>\n",
       "      <td>0.0</td>\n",
       "      <td>ImquiteamazedbyChatGPTAreallypromisingpersonan...</td>\n",
       "      <td>[imquiteamazedbychatgptareallypromisingpersona...</td>\n",
       "      <td>[imquiteamazedbychatgptareallypromisingpersona...</td>\n",
       "    </tr>\n",
       "    <tr>\n",
       "      <th>500035</th>\n",
       "      <td>2023-01-04 07:16:56+00:00</td>\n",
       "      <td>1610535734758219778</td>\n",
       "      <td>I used chat gpt to get gym workout program and...</td>\n",
       "      <td>pnik91</td>\n",
       "      <td>0.0</td>\n",
       "      <td>0.0</td>\n",
       "      <td>Iusedchatgpttogetgymworkoutprogramanditwassogo...</td>\n",
       "      <td>[iusedchatgpttogetgymworkoutprogramanditwassog...</td>\n",
       "      <td>[iusedchatgpttogetgymworkoutprogramanditwassog...</td>\n",
       "    </tr>\n",
       "  </tbody>\n",
       "</table>\n",
       "</div>"
      ],
      "text/plain": [
       "                             date                   id  \\\n",
       "500031  2023-01-04 07:18:08+00:00  1610536038094757888   \n",
       "500032  2023-01-04 07:17:50+00:00  1610535961670172674   \n",
       "500033  2023-01-04 07:17:20+00:00  1610535837363486720   \n",
       "500034  2023-01-04 07:17:08+00:00  1610535786017091584   \n",
       "500035  2023-01-04 07:16:56+00:00  1610535734758219778   \n",
       "\n",
       "                                                  content        username  \\\n",
       "500031  @GoogleAI #LAMDA Versus @OpenAI #ChatGPT ?! Wh...      Pup_In_Cup   \n",
       "500032  #ChatGPT \\n\\nSo much #Censorship.\\n\\nNever tru...  TryingToOffend   \n",
       "500033  all my twitter feed is about ChatGPT and @Open...          mcp350   \n",
       "500034  I'm quite amazed by Chat GPT. A really promisi...   manumurali369   \n",
       "500035  I used chat gpt to get gym workout program and...          pnik91   \n",
       "\n",
       "        like_count  retweet_count  \\\n",
       "500031         1.0            0.0   \n",
       "500032         2.0            0.0   \n",
       "500033         3.0            1.0   \n",
       "500034         1.0            0.0   \n",
       "500035         0.0            0.0   \n",
       "\n",
       "                                                    tweet  \\\n",
       "500031  LAMDAVersusChatGPTWhocaresLamdaisntavailableCh...   \n",
       "500032  ChatGPT\\n\\nSomuchCensorship\\n\\nNevertrustasyst...   \n",
       "500033  allmytwitterfeedisaboutChatGPTandlol\\n\\nAIChatGPT   \n",
       "500034  ImquiteamazedbyChatGPTAreallypromisingpersonan...   \n",
       "500035  Iusedchatgpttogetgymworkoutprogramanditwassogo...   \n",
       "\n",
       "                                          tokenized_tweet  \\\n",
       "500031  [lamdaversuschatgptwhocareslamdaisntavailablec...   \n",
       "500032  [chatgpt, somuchcensorship, nevertrustasystemy...   \n",
       "500033  [allmytwitterfeedisaboutchatgptandlol, aichatgpt]   \n",
       "500034  [imquiteamazedbychatgptareallypromisingpersona...   \n",
       "500035  [iusedchatgpttogetgymworkoutprogramanditwassog...   \n",
       "\n",
       "                                             no_stopwords  \n",
       "500031  [lamdaversuschatgptwhocareslamdaisntavailablec...  \n",
       "500032  [chatgpt, somuchcensorship, nevertrustasystemy...  \n",
       "500033  [allmytwitterfeedisaboutchatgptandlol, aichatgpt]  \n",
       "500034  [imquiteamazedbychatgptareallypromisingpersona...  \n",
       "500035  [iusedchatgpttogetgymworkoutprogramanditwassog...  "
      ]
     },
     "execution_count": 17,
     "metadata": {},
     "output_type": "execute_result"
    }
   ],
   "source": [
    "df.tail()"
   ]
  },
  {
   "cell_type": "markdown",
   "id": "b7785bc8",
   "metadata": {},
   "source": [
    "Performing Stemming :Tranforming any form of a word to its root word"
   ]
  },
  {
   "cell_type": "code",
   "execution_count": 18,
   "id": "ac3233bd",
   "metadata": {},
   "outputs": [],
   "source": [
    "ps = nltk.PorterStemmer()\n",
    "\n",
    "def stemming(text):\n",
    "    text = [ps.stem(word) for word in text]\n",
    "    return text"
   ]
  },
  {
   "cell_type": "code",
   "execution_count": 19,
   "id": "6da483cf",
   "metadata": {},
   "outputs": [],
   "source": [
    "df['stemmed_tweets'] = df['no_stopwords'].apply(lambda x: stemming(x))"
   ]
  },
  {
   "cell_type": "code",
   "execution_count": 20,
   "id": "817e5b4a",
   "metadata": {},
   "outputs": [
    {
     "data": {
      "text/html": [
       "<div>\n",
       "<style scoped>\n",
       "    .dataframe tbody tr th:only-of-type {\n",
       "        vertical-align: middle;\n",
       "    }\n",
       "\n",
       "    .dataframe tbody tr th {\n",
       "        vertical-align: top;\n",
       "    }\n",
       "\n",
       "    .dataframe thead th {\n",
       "        text-align: right;\n",
       "    }\n",
       "</style>\n",
       "<table border=\"1\" class=\"dataframe\">\n",
       "  <thead>\n",
       "    <tr style=\"text-align: right;\">\n",
       "      <th></th>\n",
       "      <th>date</th>\n",
       "      <th>id</th>\n",
       "      <th>content</th>\n",
       "      <th>username</th>\n",
       "      <th>like_count</th>\n",
       "      <th>retweet_count</th>\n",
       "      <th>tweet</th>\n",
       "      <th>tokenized_tweet</th>\n",
       "      <th>no_stopwords</th>\n",
       "      <th>stemmed_tweets</th>\n",
       "    </tr>\n",
       "  </thead>\n",
       "  <tbody>\n",
       "    <tr>\n",
       "      <th>500031</th>\n",
       "      <td>2023-01-04 07:18:08+00:00</td>\n",
       "      <td>1610536038094757888</td>\n",
       "      <td>@GoogleAI #LAMDA Versus @OpenAI #ChatGPT ?! Wh...</td>\n",
       "      <td>Pup_In_Cup</td>\n",
       "      <td>1.0</td>\n",
       "      <td>0.0</td>\n",
       "      <td>LAMDAVersusChatGPTWhocaresLamdaisntavailableCh...</td>\n",
       "      <td>[lamdaversuschatgptwhocareslamdaisntavailablec...</td>\n",
       "      <td>[lamdaversuschatgptwhocareslamdaisntavailablec...</td>\n",
       "      <td>[lamdaversuschatgptwhocareslamdaisntavailablec...</td>\n",
       "    </tr>\n",
       "    <tr>\n",
       "      <th>500032</th>\n",
       "      <td>2023-01-04 07:17:50+00:00</td>\n",
       "      <td>1610535961670172674</td>\n",
       "      <td>#ChatGPT \\n\\nSo much #Censorship.\\n\\nNever tru...</td>\n",
       "      <td>TryingToOffend</td>\n",
       "      <td>2.0</td>\n",
       "      <td>0.0</td>\n",
       "      <td>ChatGPT\\n\\nSomuchCensorship\\n\\nNevertrustasyst...</td>\n",
       "      <td>[chatgpt, somuchcensorship, nevertrustasystemy...</td>\n",
       "      <td>[chatgpt, somuchcensorship, nevertrustasystemy...</td>\n",
       "      <td>[chatgpt, somuchcensorship, nevertrustasystemy...</td>\n",
       "    </tr>\n",
       "    <tr>\n",
       "      <th>500033</th>\n",
       "      <td>2023-01-04 07:17:20+00:00</td>\n",
       "      <td>1610535837363486720</td>\n",
       "      <td>all my twitter feed is about ChatGPT and @Open...</td>\n",
       "      <td>mcp350</td>\n",
       "      <td>3.0</td>\n",
       "      <td>1.0</td>\n",
       "      <td>allmytwitterfeedisaboutChatGPTandlol\\n\\nAIChatGPT</td>\n",
       "      <td>[allmytwitterfeedisaboutchatgptandlol, aichatgpt]</td>\n",
       "      <td>[allmytwitterfeedisaboutchatgptandlol, aichatgpt]</td>\n",
       "      <td>[allmytwitterfeedisaboutchatgptandlol, aichatgpt]</td>\n",
       "    </tr>\n",
       "    <tr>\n",
       "      <th>500034</th>\n",
       "      <td>2023-01-04 07:17:08+00:00</td>\n",
       "      <td>1610535786017091584</td>\n",
       "      <td>I'm quite amazed by Chat GPT. A really promisi...</td>\n",
       "      <td>manumurali369</td>\n",
       "      <td>1.0</td>\n",
       "      <td>0.0</td>\n",
       "      <td>ImquiteamazedbyChatGPTAreallypromisingpersonan...</td>\n",
       "      <td>[imquiteamazedbychatgptareallypromisingpersona...</td>\n",
       "      <td>[imquiteamazedbychatgptareallypromisingpersona...</td>\n",
       "      <td>[imquiteamazedbychatgptareallypromisingpersona...</td>\n",
       "    </tr>\n",
       "    <tr>\n",
       "      <th>500035</th>\n",
       "      <td>2023-01-04 07:16:56+00:00</td>\n",
       "      <td>1610535734758219778</td>\n",
       "      <td>I used chat gpt to get gym workout program and...</td>\n",
       "      <td>pnik91</td>\n",
       "      <td>0.0</td>\n",
       "      <td>0.0</td>\n",
       "      <td>Iusedchatgpttogetgymworkoutprogramanditwassogo...</td>\n",
       "      <td>[iusedchatgpttogetgymworkoutprogramanditwassog...</td>\n",
       "      <td>[iusedchatgpttogetgymworkoutprogramanditwassog...</td>\n",
       "      <td>[iusedchatgpttogetgymworkoutprogramanditwassog...</td>\n",
       "    </tr>\n",
       "  </tbody>\n",
       "</table>\n",
       "</div>"
      ],
      "text/plain": [
       "                             date                   id  \\\n",
       "500031  2023-01-04 07:18:08+00:00  1610536038094757888   \n",
       "500032  2023-01-04 07:17:50+00:00  1610535961670172674   \n",
       "500033  2023-01-04 07:17:20+00:00  1610535837363486720   \n",
       "500034  2023-01-04 07:17:08+00:00  1610535786017091584   \n",
       "500035  2023-01-04 07:16:56+00:00  1610535734758219778   \n",
       "\n",
       "                                                  content        username  \\\n",
       "500031  @GoogleAI #LAMDA Versus @OpenAI #ChatGPT ?! Wh...      Pup_In_Cup   \n",
       "500032  #ChatGPT \\n\\nSo much #Censorship.\\n\\nNever tru...  TryingToOffend   \n",
       "500033  all my twitter feed is about ChatGPT and @Open...          mcp350   \n",
       "500034  I'm quite amazed by Chat GPT. A really promisi...   manumurali369   \n",
       "500035  I used chat gpt to get gym workout program and...          pnik91   \n",
       "\n",
       "        like_count  retweet_count  \\\n",
       "500031         1.0            0.0   \n",
       "500032         2.0            0.0   \n",
       "500033         3.0            1.0   \n",
       "500034         1.0            0.0   \n",
       "500035         0.0            0.0   \n",
       "\n",
       "                                                    tweet  \\\n",
       "500031  LAMDAVersusChatGPTWhocaresLamdaisntavailableCh...   \n",
       "500032  ChatGPT\\n\\nSomuchCensorship\\n\\nNevertrustasyst...   \n",
       "500033  allmytwitterfeedisaboutChatGPTandlol\\n\\nAIChatGPT   \n",
       "500034  ImquiteamazedbyChatGPTAreallypromisingpersonan...   \n",
       "500035  Iusedchatgpttogetgymworkoutprogramanditwassogo...   \n",
       "\n",
       "                                          tokenized_tweet  \\\n",
       "500031  [lamdaversuschatgptwhocareslamdaisntavailablec...   \n",
       "500032  [chatgpt, somuchcensorship, nevertrustasystemy...   \n",
       "500033  [allmytwitterfeedisaboutchatgptandlol, aichatgpt]   \n",
       "500034  [imquiteamazedbychatgptareallypromisingpersona...   \n",
       "500035  [iusedchatgpttogetgymworkoutprogramanditwassog...   \n",
       "\n",
       "                                             no_stopwords  \\\n",
       "500031  [lamdaversuschatgptwhocareslamdaisntavailablec...   \n",
       "500032  [chatgpt, somuchcensorship, nevertrustasystemy...   \n",
       "500033  [allmytwitterfeedisaboutchatgptandlol, aichatgpt]   \n",
       "500034  [imquiteamazedbychatgptareallypromisingpersona...   \n",
       "500035  [iusedchatgpttogetgymworkoutprogramanditwassog...   \n",
       "\n",
       "                                           stemmed_tweets  \n",
       "500031  [lamdaversuschatgptwhocareslamdaisntavailablec...  \n",
       "500032  [chatgpt, somuchcensorship, nevertrustasystemy...  \n",
       "500033  [allmytwitterfeedisaboutchatgptandlol, aichatgpt]  \n",
       "500034  [imquiteamazedbychatgptareallypromisingpersona...  \n",
       "500035  [iusedchatgpttogetgymworkoutprogramanditwassog...  "
      ]
     },
     "execution_count": 20,
     "metadata": {},
     "output_type": "execute_result"
    }
   ],
   "source": [
    "df.tail()"
   ]
  },
  {
   "cell_type": "code",
   "execution_count": 21,
   "id": "21b26c0b",
   "metadata": {},
   "outputs": [],
   "source": [
    "from nltk.corpus import wordnet"
   ]
  },
  {
   "cell_type": "code",
   "execution_count": 22,
   "id": "e513b7ec",
   "metadata": {},
   "outputs": [],
   "source": [
    "wordnet = nltk.WordNetLemmatizer()\n",
    "\n",
    "def lemmatize(text):\n",
    "    text = [wordnet.lemmatize(word) for word in text]\n",
    "    return text"
   ]
  },
  {
   "cell_type": "code",
   "execution_count": 23,
   "id": "426ddfb2",
   "metadata": {},
   "outputs": [],
   "source": [
    "df['lemmatized_tweets'] = df['no_stopwords'].apply(lambda x: lemmatize(x))"
   ]
  },
  {
   "cell_type": "code",
   "execution_count": 24,
   "id": "8b4205e1",
   "metadata": {},
   "outputs": [
    {
     "data": {
      "text/html": [
       "<div>\n",
       "<style scoped>\n",
       "    .dataframe tbody tr th:only-of-type {\n",
       "        vertical-align: middle;\n",
       "    }\n",
       "\n",
       "    .dataframe tbody tr th {\n",
       "        vertical-align: top;\n",
       "    }\n",
       "\n",
       "    .dataframe thead th {\n",
       "        text-align: right;\n",
       "    }\n",
       "</style>\n",
       "<table border=\"1\" class=\"dataframe\">\n",
       "  <thead>\n",
       "    <tr style=\"text-align: right;\">\n",
       "      <th></th>\n",
       "      <th>date</th>\n",
       "      <th>id</th>\n",
       "      <th>content</th>\n",
       "      <th>username</th>\n",
       "      <th>like_count</th>\n",
       "      <th>retweet_count</th>\n",
       "      <th>tweet</th>\n",
       "      <th>tokenized_tweet</th>\n",
       "      <th>no_stopwords</th>\n",
       "      <th>stemmed_tweets</th>\n",
       "      <th>lemmatized_tweets</th>\n",
       "    </tr>\n",
       "  </thead>\n",
       "  <tbody>\n",
       "    <tr>\n",
       "      <th>500031</th>\n",
       "      <td>2023-01-04 07:18:08+00:00</td>\n",
       "      <td>1610536038094757888</td>\n",
       "      <td>@GoogleAI #LAMDA Versus @OpenAI #ChatGPT ?! Wh...</td>\n",
       "      <td>Pup_In_Cup</td>\n",
       "      <td>1.0</td>\n",
       "      <td>0.0</td>\n",
       "      <td>LAMDAVersusChatGPTWhocaresLamdaisntavailableCh...</td>\n",
       "      <td>[lamdaversuschatgptwhocareslamdaisntavailablec...</td>\n",
       "      <td>[lamdaversuschatgptwhocareslamdaisntavailablec...</td>\n",
       "      <td>[lamdaversuschatgptwhocareslamdaisntavailablec...</td>\n",
       "      <td>[lamdaversuschatgptwhocareslamdaisntavailablec...</td>\n",
       "    </tr>\n",
       "    <tr>\n",
       "      <th>500032</th>\n",
       "      <td>2023-01-04 07:17:50+00:00</td>\n",
       "      <td>1610535961670172674</td>\n",
       "      <td>#ChatGPT \\n\\nSo much #Censorship.\\n\\nNever tru...</td>\n",
       "      <td>TryingToOffend</td>\n",
       "      <td>2.0</td>\n",
       "      <td>0.0</td>\n",
       "      <td>ChatGPT\\n\\nSomuchCensorship\\n\\nNevertrustasyst...</td>\n",
       "      <td>[chatgpt, somuchcensorship, nevertrustasystemy...</td>\n",
       "      <td>[chatgpt, somuchcensorship, nevertrustasystemy...</td>\n",
       "      <td>[chatgpt, somuchcensorship, nevertrustasystemy...</td>\n",
       "      <td>[chatgpt, somuchcensorship, nevertrustasystemy...</td>\n",
       "    </tr>\n",
       "    <tr>\n",
       "      <th>500033</th>\n",
       "      <td>2023-01-04 07:17:20+00:00</td>\n",
       "      <td>1610535837363486720</td>\n",
       "      <td>all my twitter feed is about ChatGPT and @Open...</td>\n",
       "      <td>mcp350</td>\n",
       "      <td>3.0</td>\n",
       "      <td>1.0</td>\n",
       "      <td>allmytwitterfeedisaboutChatGPTandlol\\n\\nAIChatGPT</td>\n",
       "      <td>[allmytwitterfeedisaboutchatgptandlol, aichatgpt]</td>\n",
       "      <td>[allmytwitterfeedisaboutchatgptandlol, aichatgpt]</td>\n",
       "      <td>[allmytwitterfeedisaboutchatgptandlol, aichatgpt]</td>\n",
       "      <td>[allmytwitterfeedisaboutchatgptandlol, aichatgpt]</td>\n",
       "    </tr>\n",
       "    <tr>\n",
       "      <th>500034</th>\n",
       "      <td>2023-01-04 07:17:08+00:00</td>\n",
       "      <td>1610535786017091584</td>\n",
       "      <td>I'm quite amazed by Chat GPT. A really promisi...</td>\n",
       "      <td>manumurali369</td>\n",
       "      <td>1.0</td>\n",
       "      <td>0.0</td>\n",
       "      <td>ImquiteamazedbyChatGPTAreallypromisingpersonan...</td>\n",
       "      <td>[imquiteamazedbychatgptareallypromisingpersona...</td>\n",
       "      <td>[imquiteamazedbychatgptareallypromisingpersona...</td>\n",
       "      <td>[imquiteamazedbychatgptareallypromisingpersona...</td>\n",
       "      <td>[imquiteamazedbychatgptareallypromisingpersona...</td>\n",
       "    </tr>\n",
       "    <tr>\n",
       "      <th>500035</th>\n",
       "      <td>2023-01-04 07:16:56+00:00</td>\n",
       "      <td>1610535734758219778</td>\n",
       "      <td>I used chat gpt to get gym workout program and...</td>\n",
       "      <td>pnik91</td>\n",
       "      <td>0.0</td>\n",
       "      <td>0.0</td>\n",
       "      <td>Iusedchatgpttogetgymworkoutprogramanditwassogo...</td>\n",
       "      <td>[iusedchatgpttogetgymworkoutprogramanditwassog...</td>\n",
       "      <td>[iusedchatgpttogetgymworkoutprogramanditwassog...</td>\n",
       "      <td>[iusedchatgpttogetgymworkoutprogramanditwassog...</td>\n",
       "      <td>[iusedchatgpttogetgymworkoutprogramanditwassog...</td>\n",
       "    </tr>\n",
       "  </tbody>\n",
       "</table>\n",
       "</div>"
      ],
      "text/plain": [
       "                             date                   id  \\\n",
       "500031  2023-01-04 07:18:08+00:00  1610536038094757888   \n",
       "500032  2023-01-04 07:17:50+00:00  1610535961670172674   \n",
       "500033  2023-01-04 07:17:20+00:00  1610535837363486720   \n",
       "500034  2023-01-04 07:17:08+00:00  1610535786017091584   \n",
       "500035  2023-01-04 07:16:56+00:00  1610535734758219778   \n",
       "\n",
       "                                                  content        username  \\\n",
       "500031  @GoogleAI #LAMDA Versus @OpenAI #ChatGPT ?! Wh...      Pup_In_Cup   \n",
       "500032  #ChatGPT \\n\\nSo much #Censorship.\\n\\nNever tru...  TryingToOffend   \n",
       "500033  all my twitter feed is about ChatGPT and @Open...          mcp350   \n",
       "500034  I'm quite amazed by Chat GPT. A really promisi...   manumurali369   \n",
       "500035  I used chat gpt to get gym workout program and...          pnik91   \n",
       "\n",
       "        like_count  retweet_count  \\\n",
       "500031         1.0            0.0   \n",
       "500032         2.0            0.0   \n",
       "500033         3.0            1.0   \n",
       "500034         1.0            0.0   \n",
       "500035         0.0            0.0   \n",
       "\n",
       "                                                    tweet  \\\n",
       "500031  LAMDAVersusChatGPTWhocaresLamdaisntavailableCh...   \n",
       "500032  ChatGPT\\n\\nSomuchCensorship\\n\\nNevertrustasyst...   \n",
       "500033  allmytwitterfeedisaboutChatGPTandlol\\n\\nAIChatGPT   \n",
       "500034  ImquiteamazedbyChatGPTAreallypromisingpersonan...   \n",
       "500035  Iusedchatgpttogetgymworkoutprogramanditwassogo...   \n",
       "\n",
       "                                          tokenized_tweet  \\\n",
       "500031  [lamdaversuschatgptwhocareslamdaisntavailablec...   \n",
       "500032  [chatgpt, somuchcensorship, nevertrustasystemy...   \n",
       "500033  [allmytwitterfeedisaboutchatgptandlol, aichatgpt]   \n",
       "500034  [imquiteamazedbychatgptareallypromisingpersona...   \n",
       "500035  [iusedchatgpttogetgymworkoutprogramanditwassog...   \n",
       "\n",
       "                                             no_stopwords  \\\n",
       "500031  [lamdaversuschatgptwhocareslamdaisntavailablec...   \n",
       "500032  [chatgpt, somuchcensorship, nevertrustasystemy...   \n",
       "500033  [allmytwitterfeedisaboutchatgptandlol, aichatgpt]   \n",
       "500034  [imquiteamazedbychatgptareallypromisingpersona...   \n",
       "500035  [iusedchatgpttogetgymworkoutprogramanditwassog...   \n",
       "\n",
       "                                           stemmed_tweets  \\\n",
       "500031  [lamdaversuschatgptwhocareslamdaisntavailablec...   \n",
       "500032  [chatgpt, somuchcensorship, nevertrustasystemy...   \n",
       "500033  [allmytwitterfeedisaboutchatgptandlol, aichatgpt]   \n",
       "500034  [imquiteamazedbychatgptareallypromisingpersona...   \n",
       "500035  [iusedchatgpttogetgymworkoutprogramanditwassog...   \n",
       "\n",
       "                                        lemmatized_tweets  \n",
       "500031  [lamdaversuschatgptwhocareslamdaisntavailablec...  \n",
       "500032  [chatgpt, somuchcensorship, nevertrustasystemy...  \n",
       "500033  [allmytwitterfeedisaboutchatgptandlol, aichatgpt]  \n",
       "500034  [imquiteamazedbychatgptareallypromisingpersona...  \n",
       "500035  [iusedchatgpttogetgymworkoutprogramanditwassog...  "
      ]
     },
     "execution_count": 24,
     "metadata": {},
     "output_type": "execute_result"
    }
   ],
   "source": [
    "df.tail()"
   ]
  },
  {
   "cell_type": "markdown",
   "id": "1c529e0f",
   "metadata": {},
   "source": [
    "Data Visualization"
   ]
  },
  {
   "cell_type": "code",
   "execution_count": 31,
   "id": "4e8a138f",
   "metadata": {},
   "outputs": [],
   "source": [
    "from wordcloud import WordCloud, STOPWORDS , ImageColorGenerator\n",
    "from PIL import Image\n",
    "\n",
    "stopwords = set(STOPWORDS)"
   ]
  },
  {
   "cell_type": "code",
   "execution_count": 32,
   "id": "182668c5",
   "metadata": {},
   "outputs": [
    {
     "data": {
      "text/html": [
       "<div>\n",
       "<style scoped>\n",
       "    .dataframe tbody tr th:only-of-type {\n",
       "        vertical-align: middle;\n",
       "    }\n",
       "\n",
       "    .dataframe tbody tr th {\n",
       "        vertical-align: top;\n",
       "    }\n",
       "\n",
       "    .dataframe thead th {\n",
       "        text-align: right;\n",
       "    }\n",
       "</style>\n",
       "<table border=\"1\" class=\"dataframe\">\n",
       "  <thead>\n",
       "    <tr style=\"text-align: right;\">\n",
       "      <th></th>\n",
       "      <th>date</th>\n",
       "      <th>id</th>\n",
       "      <th>content</th>\n",
       "      <th>username</th>\n",
       "      <th>like_count</th>\n",
       "      <th>retweet_count</th>\n",
       "      <th>tweet</th>\n",
       "      <th>tokenized_tweet</th>\n",
       "      <th>no_stopwords</th>\n",
       "      <th>stemmed_tweets</th>\n",
       "      <th>lemmatized_tweets</th>\n",
       "    </tr>\n",
       "  </thead>\n",
       "  <tbody>\n",
       "    <tr>\n",
       "      <th>0</th>\n",
       "      <td>2023-03-29 22:58:21+00:00</td>\n",
       "      <td>1641213230730051584</td>\n",
       "      <td>Free AI marketing and automation tools, strate...</td>\n",
       "      <td>RealProfitPros</td>\n",
       "      <td>0.0</td>\n",
       "      <td>0.0</td>\n",
       "      <td>FreeAImarketingandautomationtoolsstrategiesand...</td>\n",
       "      <td>[freeaimarketingandautomationtoolsstrategiesan...</td>\n",
       "      <td>[freeaimarketingandautomationtoolsstrategiesan...</td>\n",
       "      <td>[freeaimarketingandautomationtoolsstrategiesan...</td>\n",
       "      <td>[freeaimarketingandautomationtoolsstrategiesan...</td>\n",
       "    </tr>\n",
       "    <tr>\n",
       "      <th>1</th>\n",
       "      <td>2023-03-29 22:58:18+00:00</td>\n",
       "      <td>1641213218520481805</td>\n",
       "      <td>@MecoleHardman4 Chat GPT says it’s 15. 😂</td>\n",
       "      <td>AmyLouWho321</td>\n",
       "      <td>0.0</td>\n",
       "      <td>0.0</td>\n",
       "      <td>ChatGPTsaysits15</td>\n",
       "      <td>[chatgptsaysits15]</td>\n",
       "      <td>[chatgptsaysits15]</td>\n",
       "      <td>[chatgptsaysits15]</td>\n",
       "      <td>[chatgptsaysits15]</td>\n",
       "    </tr>\n",
       "    <tr>\n",
       "      <th>2</th>\n",
       "      <td>2023-03-29 22:57:53+00:00</td>\n",
       "      <td>1641213115684536323</td>\n",
       "      <td>https://t.co/FjJSprt0te - Chat with any PDF!\\n...</td>\n",
       "      <td>yjleon1976</td>\n",
       "      <td>0.0</td>\n",
       "      <td>0.0</td>\n",
       "      <td>httpstcoFjJSprt0teChatwithanyPDF\\nCheckouthowt...</td>\n",
       "      <td>[httpstcofjjsprt0techatwithanypdf, checkouthow...</td>\n",
       "      <td>[httpstcofjjsprt0techatwithanypdf, checkouthow...</td>\n",
       "      <td>[httpstcofjjsprt0techatwithanypdf, checkouthow...</td>\n",
       "      <td>[httpstcofjjsprt0techatwithanypdf, checkouthow...</td>\n",
       "    </tr>\n",
       "    <tr>\n",
       "      <th>3</th>\n",
       "      <td>2023-03-29 22:57:52+00:00</td>\n",
       "      <td>1641213110915571715</td>\n",
       "      <td>AI muses: \"In the court of life, we must all f...</td>\n",
       "      <td>ChatGPT_Thinks</td>\n",
       "      <td>0.0</td>\n",
       "      <td>0.0</td>\n",
       "      <td>AImusesInthecourtoflifewemustallfacethejudgeof...</td>\n",
       "      <td>[aimusesinthecourtoflifewemustallfacethejudgeo...</td>\n",
       "      <td>[aimusesinthecourtoflifewemustallfacethejudgeo...</td>\n",
       "      <td>[aimusesinthecourtoflifewemustallfacethejudgeo...</td>\n",
       "      <td>[aimusesinthecourtoflifewemustallfacethejudgeo...</td>\n",
       "    </tr>\n",
       "    <tr>\n",
       "      <th>4</th>\n",
       "      <td>2023-03-29 22:57:26+00:00</td>\n",
       "      <td>1641213003260633088</td>\n",
       "      <td>Most people haven't heard of Chat GPT yet.\\nFi...</td>\n",
       "      <td>nikocosmonaut</td>\n",
       "      <td>0.0</td>\n",
       "      <td>0.0</td>\n",
       "      <td>MostpeoplehaventheardofChatGPTyet\\nFirstelitef...</td>\n",
       "      <td>[mostpeoplehaventheardofchatgptyet, firstelite...</td>\n",
       "      <td>[mostpeoplehaventheardofchatgptyet, firstelite...</td>\n",
       "      <td>[mostpeoplehaventheardofchatgptyet, firstelite...</td>\n",
       "      <td>[mostpeoplehaventheardofchatgptyet, firstelite...</td>\n",
       "    </tr>\n",
       "  </tbody>\n",
       "</table>\n",
       "</div>"
      ],
      "text/plain": [
       "                        date                   id  \\\n",
       "0  2023-03-29 22:58:21+00:00  1641213230730051584   \n",
       "1  2023-03-29 22:58:18+00:00  1641213218520481805   \n",
       "2  2023-03-29 22:57:53+00:00  1641213115684536323   \n",
       "3  2023-03-29 22:57:52+00:00  1641213110915571715   \n",
       "4  2023-03-29 22:57:26+00:00  1641213003260633088   \n",
       "\n",
       "                                             content        username  \\\n",
       "0  Free AI marketing and automation tools, strate...  RealProfitPros   \n",
       "1           @MecoleHardman4 Chat GPT says it’s 15. 😂    AmyLouWho321   \n",
       "2  https://t.co/FjJSprt0te - Chat with any PDF!\\n...      yjleon1976   \n",
       "3  AI muses: \"In the court of life, we must all f...  ChatGPT_Thinks   \n",
       "4  Most people haven't heard of Chat GPT yet.\\nFi...   nikocosmonaut   \n",
       "\n",
       "   like_count  retweet_count  \\\n",
       "0         0.0            0.0   \n",
       "1         0.0            0.0   \n",
       "2         0.0            0.0   \n",
       "3         0.0            0.0   \n",
       "4         0.0            0.0   \n",
       "\n",
       "                                               tweet  \\\n",
       "0  FreeAImarketingandautomationtoolsstrategiesand...   \n",
       "1                                   ChatGPTsaysits15   \n",
       "2  httpstcoFjJSprt0teChatwithanyPDF\\nCheckouthowt...   \n",
       "3  AImusesInthecourtoflifewemustallfacethejudgeof...   \n",
       "4  MostpeoplehaventheardofChatGPTyet\\nFirstelitef...   \n",
       "\n",
       "                                     tokenized_tweet  \\\n",
       "0  [freeaimarketingandautomationtoolsstrategiesan...   \n",
       "1                                 [chatgptsaysits15]   \n",
       "2  [httpstcofjjsprt0techatwithanypdf, checkouthow...   \n",
       "3  [aimusesinthecourtoflifewemustallfacethejudgeo...   \n",
       "4  [mostpeoplehaventheardofchatgptyet, firstelite...   \n",
       "\n",
       "                                        no_stopwords  \\\n",
       "0  [freeaimarketingandautomationtoolsstrategiesan...   \n",
       "1                                 [chatgptsaysits15]   \n",
       "2  [httpstcofjjsprt0techatwithanypdf, checkouthow...   \n",
       "3  [aimusesinthecourtoflifewemustallfacethejudgeo...   \n",
       "4  [mostpeoplehaventheardofchatgptyet, firstelite...   \n",
       "\n",
       "                                      stemmed_tweets  \\\n",
       "0  [freeaimarketingandautomationtoolsstrategiesan...   \n",
       "1                                 [chatgptsaysits15]   \n",
       "2  [httpstcofjjsprt0techatwithanypdf, checkouthow...   \n",
       "3  [aimusesinthecourtoflifewemustallfacethejudgeo...   \n",
       "4  [mostpeoplehaventheardofchatgptyet, firstelite...   \n",
       "\n",
       "                                   lemmatized_tweets  \n",
       "0  [freeaimarketingandautomationtoolsstrategiesan...  \n",
       "1                                 [chatgptsaysits15]  \n",
       "2  [httpstcofjjsprt0techatwithanypdf, checkouthow...  \n",
       "3  [aimusesinthecourtoflifewemustallfacethejudgeo...  \n",
       "4  [mostpeoplehaventheardofchatgptyet, firstelite...  "
      ]
     },
     "execution_count": 32,
     "metadata": {},
     "output_type": "execute_result"
    }
   ],
   "source": [
    "df.head()"
   ]
  },
  {
   "cell_type": "code",
   "execution_count": 35,
   "id": "2f0229fc",
   "metadata": {},
   "outputs": [],
   "source": [
    "def clean_text(text):\n",
    "    text_lc = \"\".join([word.lower() for word in text if word not in string.punctuation]) # remove puntuation\n",
    "    text_rc = re.sub('[0-9]+', '', text_lc)\n",
    "    tokens = re.split('\\W+', text_rc)    # tokenization\n",
    "    text = [ps.stem(word) for word in tokens if word not in stop_words]  # remove stopwords and stemming\n",
    "    return text"
   ]
  },
  {
   "cell_type": "code",
   "execution_count": 36,
   "id": "4f811bb7",
   "metadata": {},
   "outputs": [
    {
     "name": "stdout",
     "output_type": "stream",
     "text": [
      "500036 Number of tweets has 819122 words\n",
      "['' 'aa' 'aaaa' ... '𝟰𝗪𝗿𝗶𝘁𝗲𝗢𝘂𝘁𝗹𝗶𝗻𝗲𝘀𝗙𝗼𝗿𝗚𝘂𝗶𝗱𝗲𝘀𝗮𝗻𝗱𝗘𝗯𝗼𝗼𝗸𝘀' '𝟱𝗘𝘅𝗲𝗰𝘂𝘁𝗲𝗾𝘂𝗲𝗿𝗶𝗲𝘀'\n",
      " '𝟱𝗿𝗲𝗮𝘀𝗼𝗻𝘀𝘄𝗵𝘆𝗖𝗵𝗮𝘁𝗚𝗣𝗧𝗰𝗮𝗻𝗻𝗼𝘁𝗯𝗲𝗮𝗦𝗼𝗳𝘁𝗦𝗸𝗶𝗹𝗹𝘀𝗧𝗿𝗮𝗶𝗻𝗲𝗿httpstcofhbdlr']\n"
     ]
    }
   ],
   "source": [
    "from sklearn.feature_extraction.text import CountVectorizer\n",
    "\n",
    "countVectorizer = CountVectorizer(analyzer=clean_text) \n",
    "countVector = countVectorizer.fit_transform(df['tweet'])\n",
    "print('{} Number of tweets has {} words'.format(countVector.shape[0], countVector.shape[1]))\n",
    "print(countVectorizer.get_feature_names_out())"
   ]
  },
  {
   "cell_type": "markdown",
   "id": "322743ad",
   "metadata": {},
   "source": [
    "Performing sentiment analysis"
   ]
  },
  {
   "cell_type": "code",
   "execution_count": 38,
   "id": "84a442aa",
   "metadata": {},
   "outputs": [
    {
     "name": "stdout",
     "output_type": "stream",
     "text": [
      "Collecting textblob\n",
      "  Downloading textblob-0.17.1-py2.py3-none-any.whl (636 kB)\n",
      "     -------------------------------------- 636.8/636.8 kB 2.0 MB/s eta 0:00:00\n",
      "Requirement already satisfied: nltk>=3.1 in c:\\users\\91886\\appdata\\local\\programs\\python\\python310\\lib\\site-packages (from textblob) (3.8.1)\n",
      "Requirement already satisfied: click in c:\\users\\91886\\appdata\\local\\programs\\python\\python310\\lib\\site-packages (from nltk>=3.1->textblob) (8.0.3)\n",
      "Requirement already satisfied: joblib in c:\\users\\91886\\appdata\\local\\programs\\python\\python310\\lib\\site-packages (from nltk>=3.1->textblob) (1.1.0)\n",
      "Requirement already satisfied: regex>=2021.8.3 in c:\\users\\91886\\appdata\\local\\programs\\python\\python310\\lib\\site-packages (from nltk>=3.1->textblob) (2023.6.3)\n",
      "Requirement already satisfied: tqdm in c:\\users\\91886\\appdata\\local\\programs\\python\\python310\\lib\\site-packages (from nltk>=3.1->textblob) (4.65.0)\n",
      "Requirement already satisfied: colorama in c:\\users\\91886\\appdata\\local\\programs\\python\\python310\\lib\\site-packages (from click->nltk>=3.1->textblob) (0.4.6)\n",
      "Installing collected packages: textblob\n",
      "Successfully installed textblob-0.17.1\n"
     ]
    }
   ],
   "source": [
    "!pip install textblob"
   ]
  },
  {
   "cell_type": "code",
   "execution_count": 40,
   "id": "cf9d2eac",
   "metadata": {},
   "outputs": [],
   "source": [
    "from textblob import TextBlob\n",
    "\n",
    "def sentiment_analysis(text):\n",
    "    analysis = TextBlob(text)\n",
    "    if analysis.sentiment.polarity>0:\n",
    "        return 'Positive'\n",
    "    elif analysis.sentiment.polarity==0:\n",
    "        return 'Neutral'\n",
    "    else:\n",
    "        return 'Negetive'"
   ]
  },
  {
   "cell_type": "code",
   "execution_count": 41,
   "id": "84892ccc",
   "metadata": {},
   "outputs": [],
   "source": [
    "df['sentiment'] = df['tweet'].apply(lambda x: sentiment_analysis(x))"
   ]
  },
  {
   "cell_type": "code",
   "execution_count": 42,
   "id": "ac2518ee",
   "metadata": {},
   "outputs": [
    {
     "data": {
      "text/html": [
       "<div>\n",
       "<style scoped>\n",
       "    .dataframe tbody tr th:only-of-type {\n",
       "        vertical-align: middle;\n",
       "    }\n",
       "\n",
       "    .dataframe tbody tr th {\n",
       "        vertical-align: top;\n",
       "    }\n",
       "\n",
       "    .dataframe thead th {\n",
       "        text-align: right;\n",
       "    }\n",
       "</style>\n",
       "<table border=\"1\" class=\"dataframe\">\n",
       "  <thead>\n",
       "    <tr style=\"text-align: right;\">\n",
       "      <th></th>\n",
       "      <th>date</th>\n",
       "      <th>id</th>\n",
       "      <th>content</th>\n",
       "      <th>username</th>\n",
       "      <th>like_count</th>\n",
       "      <th>retweet_count</th>\n",
       "      <th>tweet</th>\n",
       "      <th>tokenized_tweet</th>\n",
       "      <th>no_stopwords</th>\n",
       "      <th>stemmed_tweets</th>\n",
       "      <th>lemmatized_tweets</th>\n",
       "      <th>sentiment</th>\n",
       "    </tr>\n",
       "  </thead>\n",
       "  <tbody>\n",
       "    <tr>\n",
       "      <th>0</th>\n",
       "      <td>2023-03-29 22:58:21+00:00</td>\n",
       "      <td>1641213230730051584</td>\n",
       "      <td>Free AI marketing and automation tools, strate...</td>\n",
       "      <td>RealProfitPros</td>\n",
       "      <td>0.0</td>\n",
       "      <td>0.0</td>\n",
       "      <td>FreeAImarketingandautomationtoolsstrategiesand...</td>\n",
       "      <td>[freeaimarketingandautomationtoolsstrategiesan...</td>\n",
       "      <td>[freeaimarketingandautomationtoolsstrategiesan...</td>\n",
       "      <td>[freeaimarketingandautomationtoolsstrategiesan...</td>\n",
       "      <td>[freeaimarketingandautomationtoolsstrategiesan...</td>\n",
       "      <td>Neutral</td>\n",
       "    </tr>\n",
       "    <tr>\n",
       "      <th>1</th>\n",
       "      <td>2023-03-29 22:58:18+00:00</td>\n",
       "      <td>1641213218520481805</td>\n",
       "      <td>@MecoleHardman4 Chat GPT says it’s 15. 😂</td>\n",
       "      <td>AmyLouWho321</td>\n",
       "      <td>0.0</td>\n",
       "      <td>0.0</td>\n",
       "      <td>ChatGPTsaysits15</td>\n",
       "      <td>[chatgptsaysits15]</td>\n",
       "      <td>[chatgptsaysits15]</td>\n",
       "      <td>[chatgptsaysits15]</td>\n",
       "      <td>[chatgptsaysits15]</td>\n",
       "      <td>Neutral</td>\n",
       "    </tr>\n",
       "    <tr>\n",
       "      <th>2</th>\n",
       "      <td>2023-03-29 22:57:53+00:00</td>\n",
       "      <td>1641213115684536323</td>\n",
       "      <td>https://t.co/FjJSprt0te - Chat with any PDF!\\n...</td>\n",
       "      <td>yjleon1976</td>\n",
       "      <td>0.0</td>\n",
       "      <td>0.0</td>\n",
       "      <td>httpstcoFjJSprt0teChatwithanyPDF\\nCheckouthowt...</td>\n",
       "      <td>[httpstcofjjsprt0techatwithanypdf, checkouthow...</td>\n",
       "      <td>[httpstcofjjsprt0techatwithanypdf, checkouthow...</td>\n",
       "      <td>[httpstcofjjsprt0techatwithanypdf, checkouthow...</td>\n",
       "      <td>[httpstcofjjsprt0techatwithanypdf, checkouthow...</td>\n",
       "      <td>Neutral</td>\n",
       "    </tr>\n",
       "    <tr>\n",
       "      <th>3</th>\n",
       "      <td>2023-03-29 22:57:52+00:00</td>\n",
       "      <td>1641213110915571715</td>\n",
       "      <td>AI muses: \"In the court of life, we must all f...</td>\n",
       "      <td>ChatGPT_Thinks</td>\n",
       "      <td>0.0</td>\n",
       "      <td>0.0</td>\n",
       "      <td>AImusesInthecourtoflifewemustallfacethejudgeof...</td>\n",
       "      <td>[aimusesinthecourtoflifewemustallfacethejudgeo...</td>\n",
       "      <td>[aimusesinthecourtoflifewemustallfacethejudgeo...</td>\n",
       "      <td>[aimusesinthecourtoflifewemustallfacethejudgeo...</td>\n",
       "      <td>[aimusesinthecourtoflifewemustallfacethejudgeo...</td>\n",
       "      <td>Neutral</td>\n",
       "    </tr>\n",
       "    <tr>\n",
       "      <th>4</th>\n",
       "      <td>2023-03-29 22:57:26+00:00</td>\n",
       "      <td>1641213003260633088</td>\n",
       "      <td>Most people haven't heard of Chat GPT yet.\\nFi...</td>\n",
       "      <td>nikocosmonaut</td>\n",
       "      <td>0.0</td>\n",
       "      <td>0.0</td>\n",
       "      <td>MostpeoplehaventheardofChatGPTyet\\nFirstelitef...</td>\n",
       "      <td>[mostpeoplehaventheardofchatgptyet, firstelite...</td>\n",
       "      <td>[mostpeoplehaventheardofchatgptyet, firstelite...</td>\n",
       "      <td>[mostpeoplehaventheardofchatgptyet, firstelite...</td>\n",
       "      <td>[mostpeoplehaventheardofchatgptyet, firstelite...</td>\n",
       "      <td>Neutral</td>\n",
       "    </tr>\n",
       "  </tbody>\n",
       "</table>\n",
       "</div>"
      ],
      "text/plain": [
       "                        date                   id  \\\n",
       "0  2023-03-29 22:58:21+00:00  1641213230730051584   \n",
       "1  2023-03-29 22:58:18+00:00  1641213218520481805   \n",
       "2  2023-03-29 22:57:53+00:00  1641213115684536323   \n",
       "3  2023-03-29 22:57:52+00:00  1641213110915571715   \n",
       "4  2023-03-29 22:57:26+00:00  1641213003260633088   \n",
       "\n",
       "                                             content        username  \\\n",
       "0  Free AI marketing and automation tools, strate...  RealProfitPros   \n",
       "1           @MecoleHardman4 Chat GPT says it’s 15. 😂    AmyLouWho321   \n",
       "2  https://t.co/FjJSprt0te - Chat with any PDF!\\n...      yjleon1976   \n",
       "3  AI muses: \"In the court of life, we must all f...  ChatGPT_Thinks   \n",
       "4  Most people haven't heard of Chat GPT yet.\\nFi...   nikocosmonaut   \n",
       "\n",
       "   like_count  retweet_count  \\\n",
       "0         0.0            0.0   \n",
       "1         0.0            0.0   \n",
       "2         0.0            0.0   \n",
       "3         0.0            0.0   \n",
       "4         0.0            0.0   \n",
       "\n",
       "                                               tweet  \\\n",
       "0  FreeAImarketingandautomationtoolsstrategiesand...   \n",
       "1                                   ChatGPTsaysits15   \n",
       "2  httpstcoFjJSprt0teChatwithanyPDF\\nCheckouthowt...   \n",
       "3  AImusesInthecourtoflifewemustallfacethejudgeof...   \n",
       "4  MostpeoplehaventheardofChatGPTyet\\nFirstelitef...   \n",
       "\n",
       "                                     tokenized_tweet  \\\n",
       "0  [freeaimarketingandautomationtoolsstrategiesan...   \n",
       "1                                 [chatgptsaysits15]   \n",
       "2  [httpstcofjjsprt0techatwithanypdf, checkouthow...   \n",
       "3  [aimusesinthecourtoflifewemustallfacethejudgeo...   \n",
       "4  [mostpeoplehaventheardofchatgptyet, firstelite...   \n",
       "\n",
       "                                        no_stopwords  \\\n",
       "0  [freeaimarketingandautomationtoolsstrategiesan...   \n",
       "1                                 [chatgptsaysits15]   \n",
       "2  [httpstcofjjsprt0techatwithanypdf, checkouthow...   \n",
       "3  [aimusesinthecourtoflifewemustallfacethejudgeo...   \n",
       "4  [mostpeoplehaventheardofchatgptyet, firstelite...   \n",
       "\n",
       "                                      stemmed_tweets  \\\n",
       "0  [freeaimarketingandautomationtoolsstrategiesan...   \n",
       "1                                 [chatgptsaysits15]   \n",
       "2  [httpstcofjjsprt0techatwithanypdf, checkouthow...   \n",
       "3  [aimusesinthecourtoflifewemustallfacethejudgeo...   \n",
       "4  [mostpeoplehaventheardofchatgptyet, firstelite...   \n",
       "\n",
       "                                   lemmatized_tweets sentiment  \n",
       "0  [freeaimarketingandautomationtoolsstrategiesan...   Neutral  \n",
       "1                                 [chatgptsaysits15]   Neutral  \n",
       "2  [httpstcofjjsprt0techatwithanypdf, checkouthow...   Neutral  \n",
       "3  [aimusesinthecourtoflifewemustallfacethejudgeo...   Neutral  \n",
       "4  [mostpeoplehaventheardofchatgptyet, firstelite...   Neutral  "
      ]
     },
     "execution_count": 42,
     "metadata": {},
     "output_type": "execute_result"
    }
   ],
   "source": [
    "df.head()"
   ]
  },
  {
   "cell_type": "code",
   "execution_count": 43,
   "id": "186c40cd",
   "metadata": {},
   "outputs": [
    {
     "data": {
      "text/plain": [
       "<AxesSubplot:xlabel='sentiment', ylabel='count'>"
      ]
     },
     "execution_count": 43,
     "metadata": {},
     "output_type": "execute_result"
    },
    {
     "data": {
      "image/png": "[encoded data removed]",
      "text/plain": [
       "<Figure size 432x288 with 1 Axes>"
      ]
     },
     "metadata": {
      "needs_background": "light"
     },
     "output_type": "display_data"
    }
   ],
   "source": [
    "sns.countplot(x='sentiment', data = df)"
   ]
  },
  {
   "cell_type": "code",
   "execution_count": 45,
   "id": "85e8a581",
   "metadata": {},
   "outputs": [
    {
     "data": {
      "text/plain": [
       "Neutral     498719\n",
       "Positive      1021\n",
       "Negetive       296\n",
       "Name: sentiment, dtype: int64"
      ]
     },
     "execution_count": 45,
     "metadata": {},
     "output_type": "execute_result"
    }
   ],
   "source": [
    "df['sentiment'].value_counts()"
   ]
  },
  {
   "cell_type": "code",
   "execution_count": 46,
   "id": "6199aae8",
   "metadata": {},
   "outputs": [],
   "source": [
    "# Obtaining Subjectivity and Polarity"
   ]
  },
  {
   "cell_type": "code",
   "execution_count": 47,
   "id": "40ddab73",
   "metadata": {},
   "outputs": [],
   "source": [
    "def getSubjectivity(text):\n",
    "    return TextBlob(text).sentiment.subjectivity\n",
    "\n",
    "def getPolarity(text):\n",
    "    return TextBlob(text).sentiment.polarity"
   ]
  },
  {
   "cell_type": "code",
   "execution_count": 48,
   "id": "7d54c417",
   "metadata": {},
   "outputs": [],
   "source": [
    "df['Subjectivity'] = df['tweet'].apply(getSubjectivity)\n",
    "df['Polarity'] = df['tweet'].apply(getPolarity)"
   ]
  },
  {
   "cell_type": "code",
   "execution_count": 49,
   "id": "e24986d9",
   "metadata": {},
   "outputs": [
    {
     "data": {
      "text/html": [
       "<div>\n",
       "<style scoped>\n",
       "    .dataframe tbody tr th:only-of-type {\n",
       "        vertical-align: middle;\n",
       "    }\n",
       "\n",
       "    .dataframe tbody tr th {\n",
       "        vertical-align: top;\n",
       "    }\n",
       "\n",
       "    .dataframe thead th {\n",
       "        text-align: right;\n",
       "    }\n",
       "</style>\n",
       "<table border=\"1\" class=\"dataframe\">\n",
       "  <thead>\n",
       "    <tr style=\"text-align: right;\">\n",
       "      <th></th>\n",
       "      <th>date</th>\n",
       "      <th>id</th>\n",
       "      <th>content</th>\n",
       "      <th>username</th>\n",
       "      <th>like_count</th>\n",
       "      <th>retweet_count</th>\n",
       "      <th>tweet</th>\n",
       "      <th>tokenized_tweet</th>\n",
       "      <th>no_stopwords</th>\n",
       "      <th>stemmed_tweets</th>\n",
       "      <th>lemmatized_tweets</th>\n",
       "      <th>sentiment</th>\n",
       "      <th>Subjectivity</th>\n",
       "      <th>Polarity</th>\n",
       "    </tr>\n",
       "  </thead>\n",
       "  <tbody>\n",
       "    <tr>\n",
       "      <th>0</th>\n",
       "      <td>2023-03-29 22:58:21+00:00</td>\n",
       "      <td>1641213230730051584</td>\n",
       "      <td>Free AI marketing and automation tools, strate...</td>\n",
       "      <td>RealProfitPros</td>\n",
       "      <td>0.0</td>\n",
       "      <td>0.0</td>\n",
       "      <td>FreeAImarketingandautomationtoolsstrategiesand...</td>\n",
       "      <td>[freeaimarketingandautomationtoolsstrategiesan...</td>\n",
       "      <td>[freeaimarketingandautomationtoolsstrategiesan...</td>\n",
       "      <td>[freeaimarketingandautomationtoolsstrategiesan...</td>\n",
       "      <td>[freeaimarketingandautomationtoolsstrategiesan...</td>\n",
       "      <td>Neutral</td>\n",
       "      <td>0.0</td>\n",
       "      <td>0.0</td>\n",
       "    </tr>\n",
       "    <tr>\n",
       "      <th>1</th>\n",
       "      <td>2023-03-29 22:58:18+00:00</td>\n",
       "      <td>1641213218520481805</td>\n",
       "      <td>@MecoleHardman4 Chat GPT says it’s 15. 😂</td>\n",
       "      <td>AmyLouWho321</td>\n",
       "      <td>0.0</td>\n",
       "      <td>0.0</td>\n",
       "      <td>ChatGPTsaysits15</td>\n",
       "      <td>[chatgptsaysits15]</td>\n",
       "      <td>[chatgptsaysits15]</td>\n",
       "      <td>[chatgptsaysits15]</td>\n",
       "      <td>[chatgptsaysits15]</td>\n",
       "      <td>Neutral</td>\n",
       "      <td>0.0</td>\n",
       "      <td>0.0</td>\n",
       "    </tr>\n",
       "    <tr>\n",
       "      <th>2</th>\n",
       "      <td>2023-03-29 22:57:53+00:00</td>\n",
       "      <td>1641213115684536323</td>\n",
       "      <td>https://t.co/FjJSprt0te - Chat with any PDF!\\n...</td>\n",
       "      <td>yjleon1976</td>\n",
       "      <td>0.0</td>\n",
       "      <td>0.0</td>\n",
       "      <td>httpstcoFjJSprt0teChatwithanyPDF\\nCheckouthowt...</td>\n",
       "      <td>[httpstcofjjsprt0techatwithanypdf, checkouthow...</td>\n",
       "      <td>[httpstcofjjsprt0techatwithanypdf, checkouthow...</td>\n",
       "      <td>[httpstcofjjsprt0techatwithanypdf, checkouthow...</td>\n",
       "      <td>[httpstcofjjsprt0techatwithanypdf, checkouthow...</td>\n",
       "      <td>Neutral</td>\n",
       "      <td>0.0</td>\n",
       "      <td>0.0</td>\n",
       "    </tr>\n",
       "    <tr>\n",
       "      <th>3</th>\n",
       "      <td>2023-03-29 22:57:52+00:00</td>\n",
       "      <td>1641213110915571715</td>\n",
       "      <td>AI muses: \"In the court of life, we must all f...</td>\n",
       "      <td>ChatGPT_Thinks</td>\n",
       "      <td>0.0</td>\n",
       "      <td>0.0</td>\n",
       "      <td>AImusesInthecourtoflifewemustallfacethejudgeof...</td>\n",
       "      <td>[aimusesinthecourtoflifewemustallfacethejudgeo...</td>\n",
       "      <td>[aimusesinthecourtoflifewemustallfacethejudgeo...</td>\n",
       "      <td>[aimusesinthecourtoflifewemustallfacethejudgeo...</td>\n",
       "      <td>[aimusesinthecourtoflifewemustallfacethejudgeo...</td>\n",
       "      <td>Neutral</td>\n",
       "      <td>0.0</td>\n",
       "      <td>0.0</td>\n",
       "    </tr>\n",
       "    <tr>\n",
       "      <th>4</th>\n",
       "      <td>2023-03-29 22:57:26+00:00</td>\n",
       "      <td>1641213003260633088</td>\n",
       "      <td>Most people haven't heard of Chat GPT yet.\\nFi...</td>\n",
       "      <td>nikocosmonaut</td>\n",
       "      <td>0.0</td>\n",
       "      <td>0.0</td>\n",
       "      <td>MostpeoplehaventheardofChatGPTyet\\nFirstelitef...</td>\n",
       "      <td>[mostpeoplehaventheardofchatgptyet, firstelite...</td>\n",
       "      <td>[mostpeoplehaventheardofchatgptyet, firstelite...</td>\n",
       "      <td>[mostpeoplehaventheardofchatgptyet, firstelite...</td>\n",
       "      <td>[mostpeoplehaventheardofchatgptyet, firstelite...</td>\n",
       "      <td>Neutral</td>\n",
       "      <td>0.0</td>\n",
       "      <td>0.0</td>\n",
       "    </tr>\n",
       "  </tbody>\n",
       "</table>\n",
       "</div>"
      ],
      "text/plain": [
       "                        date                   id  \\\n",
       "0  2023-03-29 22:58:21+00:00  1641213230730051584   \n",
       "1  2023-03-29 22:58:18+00:00  1641213218520481805   \n",
       "2  2023-03-29 22:57:53+00:00  1641213115684536323   \n",
       "3  2023-03-29 22:57:52+00:00  1641213110915571715   \n",
       "4  2023-03-29 22:57:26+00:00  1641213003260633088   \n",
       "\n",
       "                                             content        username  \\\n",
       "0  Free AI marketing and automation tools, strate...  RealProfitPros   \n",
       "1           @MecoleHardman4 Chat GPT says it’s 15. 😂    AmyLouWho321   \n",
       "2  https://t.co/FjJSprt0te - Chat with any PDF!\\n...      yjleon1976   \n",
       "3  AI muses: \"In the court of life, we must all f...  ChatGPT_Thinks   \n",
       "4  Most people haven't heard of Chat GPT yet.\\nFi...   nikocosmonaut   \n",
       "\n",
       "   like_count  retweet_count  \\\n",
       "0         0.0            0.0   \n",
       "1         0.0            0.0   \n",
       "2         0.0            0.0   \n",
       "3         0.0            0.0   \n",
       "4         0.0            0.0   \n",
       "\n",
       "                                               tweet  \\\n",
       "0  FreeAImarketingandautomationtoolsstrategiesand...   \n",
       "1                                   ChatGPTsaysits15   \n",
       "2  httpstcoFjJSprt0teChatwithanyPDF\\nCheckouthowt...   \n",
       "3  AImusesInthecourtoflifewemustallfacethejudgeof...   \n",
       "4  MostpeoplehaventheardofChatGPTyet\\nFirstelitef...   \n",
       "\n",
       "                                     tokenized_tweet  \\\n",
       "0  [freeaimarketingandautomationtoolsstrategiesan...   \n",
       "1                                 [chatgptsaysits15]   \n",
       "2  [httpstcofjjsprt0techatwithanypdf, checkouthow...   \n",
       "3  [aimusesinthecourtoflifewemustallfacethejudgeo...   \n",
       "4  [mostpeoplehaventheardofchatgptyet, firstelite...   \n",
       "\n",
       "                                        no_stopwords  \\\n",
       "0  [freeaimarketingandautomationtoolsstrategiesan...   \n",
       "1                                 [chatgptsaysits15]   \n",
       "2  [httpstcofjjsprt0techatwithanypdf, checkouthow...   \n",
       "3  [aimusesinthecourtoflifewemustallfacethejudgeo...   \n",
       "4  [mostpeoplehaventheardofchatgptyet, firstelite...   \n",
       "\n",
       "                                      stemmed_tweets  \\\n",
       "0  [freeaimarketingandautomationtoolsstrategiesan...   \n",
       "1                                 [chatgptsaysits15]   \n",
       "2  [httpstcofjjsprt0techatwithanypdf, checkouthow...   \n",
       "3  [aimusesinthecourtoflifewemustallfacethejudgeo...   \n",
       "4  [mostpeoplehaventheardofchatgptyet, firstelite...   \n",
       "\n",
       "                                   lemmatized_tweets sentiment  Subjectivity  \\\n",
       "0  [freeaimarketingandautomationtoolsstrategiesan...   Neutral           0.0   \n",
       "1                                 [chatgptsaysits15]   Neutral           0.0   \n",
       "2  [httpstcofjjsprt0techatwithanypdf, checkouthow...   Neutral           0.0   \n",
       "3  [aimusesinthecourtoflifewemustallfacethejudgeo...   Neutral           0.0   \n",
       "4  [mostpeoplehaventheardofchatgptyet, firstelite...   Neutral           0.0   \n",
       "\n",
       "   Polarity  \n",
       "0       0.0  \n",
       "1       0.0  \n",
       "2       0.0  \n",
       "3       0.0  \n",
       "4       0.0  "
      ]
     },
     "execution_count": 49,
     "metadata": {},
     "output_type": "execute_result"
    }
   ],
   "source": [
    "df.head()"
   ]
  },
  {
   "cell_type": "code",
   "execution_count": 51,
   "id": "3b326c06",
   "metadata": {},
   "outputs": [
    {
     "data": {
      "text/plain": [
       "Text(0, 0.5, 'Subjectivity')"
      ]
     },
     "execution_count": 51,
     "metadata": {},
     "output_type": "execute_result"
    },
    {
     "data": {
      "image/png": "[encoded data removed]",
      "text/plain": [
       "<Figure size 432x288 with 1 Axes>"
      ]
     },
     "metadata": {
      "needs_background": "light"
     },
     "output_type": "display_data"
    }
   ],
   "source": [
    "plt.scatter(df['Polarity'], df['Subjectivity'], color='orange')\n",
    "plt.title('Sentiment Analysis')\n",
    "plt.xlabel('Polarity')\n",
    "plt.ylabel('Subjectivity')"
   ]
  },
  {
   "cell_type": "code",
   "execution_count": 52,
   "id": "eac26a92",
   "metadata": {},
   "outputs": [
    {
     "data": {
      "text/plain": [
       "<AxesSubplot:>"
      ]
     },
     "execution_count": 52,
     "metadata": {},
     "output_type": "execute_result"
    },
    {
     "data": {
      "image/png": "[encoded data removed]",
      "text/plain": [
       "<Figure size 432x288 with 1 Axes>"
      ]
     },
     "metadata": {
      "needs_background": "light"
     },
     "output_type": "display_data"
    }
   ],
   "source": [
    "df['Subjectivity'].hist(color='red')"
   ]
  },
  {
   "cell_type": "code",
   "execution_count": 53,
   "id": "d4d443fd",
   "metadata": {},
   "outputs": [
    {
     "data": {
      "text/plain": [
       "<AxesSubplot:>"
      ]
     },
     "execution_count": 53,
     "metadata": {},
     "output_type": "execute_result"
    },
    {
     "data": {
      "image/png": "[encoded data removed]",
      "text/plain": [
       "<Figure size 432x288 with 1 Axes>"
      ]
     },
     "metadata": {
      "needs_background": "light"
     },
     "output_type": "display_data"
    }
   ],
   "source": [
    "df['Polarity'].hist(color='green')"
   ]
  },
  {
   "cell_type": "code",
   "execution_count": 54,
   "id": "73f1cc0c",
   "metadata": {},
   "outputs": [],
   "source": [
    "from sklearn.model_selection import train_test_split\n",
    "from sklearn.metrics import accuracy_score, classification_report, confusion_matrix"
   ]
  },
  {
   "cell_type": "code",
   "execution_count": 55,
   "id": "6b4965b4",
   "metadata": {},
   "outputs": [],
   "source": [
    "X = df['tweet']\n",
    "y = df['sentiment']"
   ]
  },
  {
   "cell_type": "code",
   "execution_count": 56,
   "id": "3a97eaca",
   "metadata": {},
   "outputs": [],
   "source": [
    "X_train, X_test, y_train, y_test = train_test_split(X,y,test_size=0.2)"
   ]
  },
  {
   "cell_type": "code",
   "execution_count": 57,
   "id": "6fe0e899",
   "metadata": {},
   "outputs": [],
   "source": [
    "from sklearn.pipeline import Pipeline\n",
    "from sklearn.feature_extraction.text import TfidfVectorizer\n",
    "from sklearn.svm import LinearSVC"
   ]
  },
  {
   "cell_type": "code",
   "execution_count": 58,
   "id": "15fb7f35",
   "metadata": {},
   "outputs": [],
   "source": [
    "text_clf = Pipeline([('tfidf', TfidfVectorizer()),\n",
    "                        ('clf', LinearSVC()),\n",
    "])"
   ]
  },
  {
   "cell_type": "code",
   "execution_count": 59,
   "id": "423dfb60",
   "metadata": {},
   "outputs": [
    {
     "data": {
      "text/html": [
       "<style>#sk-container-id-1 {color: black;background-color: white;}#sk-container-id-1 pre{padding: 0;}#sk-container-id-1 div.sk-toggleable {background-color: white;}#sk-container-id-1 label.sk-toggleable__label {cursor: pointer;display: block;width: 100%;margin-bottom: 0;padding: 0.3em;box-sizing: border-box;text-align: center;}#sk-container-id-1 label.sk-toggleable__label-arrow:before {content: \"▸\";float: left;margin-right: 0.25em;color: #696969;}#sk-container-id-1 label.sk-toggleable__label-arrow:hover:before {color: black;}#sk-container-id-1 div.sk-estimator:hover label.sk-toggleable__label-arrow:before {color: black;}#sk-container-id-1 div.sk-toggleable__content {max-height: 0;max-width: 0;overflow: hidden;text-align: left;background-color: #f0f8ff;}#sk-container-id-1 div.sk-toggleable__content pre {margin: 0.2em;color: black;border-radius: 0.25em;background-color: #f0f8ff;}#sk-container-id-1 input.sk-toggleable__control:checked~div.sk-toggleable__content {max-height: 200px;max-width: 100%;overflow: auto;}#sk-container-id-1 input.sk-toggleable__control:checked~label.sk-toggleable__label-arrow:before {content: \"▾\";}#sk-container-id-1 div.sk-estimator input.sk-toggleable__control:checked~label.sk-toggleable__label {background-color: #d4ebff;}#sk-container-id-1 div.sk-label input.sk-toggleable__control:checked~label.sk-toggleable__label {background-color: #d4ebff;}#sk-container-id-1 input.sk-hidden--visually {border: 0;clip: rect(1px 1px 1px 1px);clip: rect(1px, 1px, 1px, 1px);height: 1px;margin: -1px;overflow: hidden;padding: 0;position: absolute;width: 1px;}#sk-container-id-1 div.sk-estimator {font-family: monospace;background-color: #f0f8ff;border: 1px dotted black;border-radius: 0.25em;box-sizing: border-box;margin-bottom: 0.5em;}#sk-container-id-1 div.sk-estimator:hover {background-color: #d4ebff;}#sk-container-id-1 div.sk-parallel-item::after {content: \"\";width: 100%;border-bottom: 1px solid gray;flex-grow: 1;}#sk-container-id-1 div.sk-label:hover label.sk-toggleable__label {background-color: #d4ebff;}#sk-container-id-1 div.sk-serial::before {content: \"\";position: absolute;border-left: 1px solid gray;box-sizing: border-box;top: 0;bottom: 0;left: 50%;z-index: 0;}#sk-container-id-1 div.sk-serial {display: flex;flex-direction: column;align-items: center;background-color: white;padding-right: 0.2em;padding-left: 0.2em;position: relative;}#sk-container-id-1 div.sk-item {position: relative;z-index: 1;}#sk-container-id-1 div.sk-parallel {display: flex;align-items: stretch;justify-content: center;background-color: white;position: relative;}#sk-container-id-1 div.sk-item::before, #sk-container-id-1 div.sk-parallel-item::before {content: \"\";position: absolute;border-left: 1px solid gray;box-sizing: border-box;top: 0;bottom: 0;left: 50%;z-index: -1;}#sk-container-id-1 div.sk-parallel-item {display: flex;flex-direction: column;z-index: 1;position: relative;background-color: white;}#sk-container-id-1 div.sk-parallel-item:first-child::after {align-self: flex-end;width: 50%;}#sk-container-id-1 div.sk-parallel-item:last-child::after {align-self: flex-start;width: 50%;}#sk-container-id-1 div.sk-parallel-item:only-child::after {width: 0;}#sk-container-id-1 div.sk-dashed-wrapped {border: 1px dashed gray;margin: 0 0.4em 0.5em 0.4em;box-sizing: border-box;padding-bottom: 0.4em;background-color: white;}#sk-container-id-1 div.sk-label label {font-family: monospace;font-weight: bold;display: inline-block;line-height: 1.2em;}#sk-container-id-1 div.sk-label-container {text-align: center;}#sk-container-id-1 div.sk-container {/* jupyter's `normalize.less` sets `[hidden] { display: none; }` but bootstrap.min.css set `[hidden] { display: none !important; }` so we also need the `!important` here to be able to override the default hidden behavior on the sphinx rendered scikit-learn.org. See: https://github.com/scikit-learn/scikit-learn/issues/21755 */display: inline-block !important;position: relative;}#sk-container-id-1 div.sk-text-repr-fallback {display: none;}</style><div id=\"sk-container-id-1\" class=\"sk-top-container\"><div class=\"sk-text-repr-fallback\"><pre>Pipeline(steps=[(&#x27;tfidf&#x27;, TfidfVectorizer()), (&#x27;clf&#x27;, LinearSVC())])</pre><b>In a Jupyter environment, please rerun this cell to show the HTML representation or trust the notebook. <br />On GitHub, the HTML representation is unable to render, please try loading this page with nbviewer.org.</b></div><div class=\"sk-container\" hidden><div class=\"sk-item sk-dashed-wrapped\"><div class=\"sk-label-container\"><div class=\"sk-label sk-toggleable\"><input class=\"sk-toggleable__control sk-hidden--visually\" id=\"sk-estimator-id-1\" type=\"checkbox\" ><label for=\"sk-estimator-id-1\" class=\"sk-toggleable__label sk-toggleable__label-arrow\">Pipeline</label><div class=\"sk-toggleable__content\"><pre>Pipeline(steps=[(&#x27;tfidf&#x27;, TfidfVectorizer()), (&#x27;clf&#x27;, LinearSVC())])</pre></div></div></div><div class=\"sk-serial\"><div class=\"sk-item\"><div class=\"sk-estimator sk-toggleable\"><input class=\"sk-toggleable__control sk-hidden--visually\" id=\"sk-estimator-id-2\" type=\"checkbox\" ><label for=\"sk-estimator-id-2\" class=\"sk-toggleable__label sk-toggleable__label-arrow\">TfidfVectorizer</label><div class=\"sk-toggleable__content\"><pre>TfidfVectorizer()</pre></div></div></div><div class=\"sk-item\"><div class=\"sk-estimator sk-toggleable\"><input class=\"sk-toggleable__control sk-hidden--visually\" id=\"sk-estimator-id-3\" type=\"checkbox\" ><label for=\"sk-estimator-id-3\" class=\"sk-toggleable__label sk-toggleable__label-arrow\">LinearSVC</label><div class=\"sk-toggleable__content\"><pre>LinearSVC()</pre></div></div></div></div></div></div></div>"
      ],
      "text/plain": [
       "Pipeline(steps=[('tfidf', TfidfVectorizer()), ('clf', LinearSVC())])"
      ]
     },
     "execution_count": 59,
     "metadata": {},
     "output_type": "execute_result"
    }
   ],
   "source": [
    "text_clf.fit(X_train, y_train)"
   ]
  },
  {
   "cell_type": "code",
   "execution_count": 60,
   "id": "4ce6816f",
   "metadata": {},
   "outputs": [],
   "source": [
    "predictions = text_clf.predict(X_test)"
   ]
  },
  {
   "cell_type": "code",
   "execution_count": 61,
   "id": "88672dd4",
   "metadata": {},
   "outputs": [
    {
     "data": {
      "text/plain": [
       "0.9993400527957763"
      ]
     },
     "execution_count": 61,
     "metadata": {},
     "output_type": "execute_result"
    }
   ],
   "source": [
    "accuracy_score(y_test,predictions)"
   ]
  },
  {
   "cell_type": "code",
   "execution_count": 62,
   "id": "a0f6015b",
   "metadata": {},
   "outputs": [
    {
     "name": "stdout",
     "output_type": "stream",
     "text": [
      "[[   44    29     0]\n",
      " [    1 99716     0]\n",
      " [    0    36   182]]\n"
     ]
    }
   ],
   "source": [
    "print(confusion_matrix(y_test,predictions))"
   ]
  },
  {
   "cell_type": "code",
   "execution_count": 63,
   "id": "d7c1ebf0",
   "metadata": {},
   "outputs": [
    {
     "name": "stdout",
     "output_type": "stream",
     "text": [
      "              precision    recall  f1-score   support\n",
      "\n",
      "    Negetive       0.98      0.60      0.75        73\n",
      "     Neutral       1.00      1.00      1.00     99717\n",
      "    Positive       1.00      0.83      0.91       218\n",
      "\n",
      "    accuracy                           1.00    100008\n",
      "   macro avg       0.99      0.81      0.89    100008\n",
      "weighted avg       1.00      1.00      1.00    100008\n",
      "\n"
     ]
    }
   ],
   "source": [
    "print(classification_report(y_test,predictions))"
   ]
  },
  {
   "cell_type": "code",
   "execution_count": 64,
   "id": "6ce642ce",
   "metadata": {},
   "outputs": [
    {
     "data": {
      "image/png": "[encoded data removed]",
      "text/plain": [
       "<Figure size 720x432 with 1 Axes>"
      ]
     },
     "metadata": {},
     "output_type": "display_data"
    }
   ],
   "source": [
    "plt.figure(figsize=(10,6))\n",
    "pd.Series(predictions).value_counts().plot(kind='pie', autopct='%1.0f%%', colors=[\"red\", \"yellow\", \"green\"])\n",
    "plt.title('Sentiment Analysis')\n",
    "plt.show()"
   ]
  },
  {
   "cell_type": "code",
   "execution_count": 69,
   "id": "9f92268f",
   "metadata": {},
   "outputs": [
    {
     "data": {
      "text/plain": [
       "array(['Neutral'], dtype=object)"
      ]
     },
     "execution_count": 69,
     "metadata": {},
     "output_type": "execute_result"
    }
   ],
   "source": [
    "text_clf.predict([\"chatgpt is bad\"])"
   ]
  },
  {
   "cell_type": "code",
   "execution_count": 70,
   "id": "de6c5e2b",
   "metadata": {},
   "outputs": [],
   "source": [
    "# Since most of the tweets are nuetral, The model will predict the sentiment of the tweet as nuetral"
   ]
  },
  {
   "cell_type": "code",
   "execution_count": 71,
   "id": "2d1b43ae",
   "metadata": {},
   "outputs": [
    {
     "name": "stderr",
     "output_type": "stream",
     "text": [
      "[nltk_data] Downloading package vader_lexicon to\n",
      "[nltk_data]     C:\\Users\\91886\\AppData\\Roaming\\nltk_data...\n",
      "[nltk_data]   Package vader_lexicon is already up-to-date!\n"
     ]
    },
    {
     "data": {
      "text/plain": [
       "True"
      ]
     },
     "execution_count": 71,
     "metadata": {},
     "output_type": "execute_result"
    }
   ],
   "source": [
    "nltk.download('vader_lexicon')"
   ]
  },
  {
   "cell_type": "code",
   "execution_count": 72,
   "id": "d364dc81",
   "metadata": {},
   "outputs": [
    {
     "data": {
      "text/plain": [
       "{'neg': 0.608, 'neu': 0.392, 'pos': 0.0, 'compound': -0.4767}"
      ]
     },
     "execution_count": 72,
     "metadata": {},
     "output_type": "execute_result"
    }
   ],
   "source": [
    "from nltk.sentiment.vader import SentimentIntensityAnalyzer\n",
    "\n",
    "sid = SentimentIntensityAnalyzer()\n",
    "sid.polarity_scores(\"Chatgpt is wrong\")"
   ]
  },
  {
   "cell_type": "code",
   "execution_count": 76,
   "id": "a20326cb",
   "metadata": {},
   "outputs": [],
   "source": [
    "#This is providing a better answer for us. NLTK performs better than TextBlob"
   ]
  },
  {
   "cell_type": "code",
   "execution_count": 77,
   "id": "fe423915",
   "metadata": {},
   "outputs": [],
   "source": [
    "def sentiment_analyzer_scores(text):\n",
    "    score = sid.polarity_scores(text)\n",
    "    if score['compound'] > 0:\n",
    "        return 'Positive'\n",
    "    elif score['compound'] == 0:\n",
    "        return 'Neutral'\n",
    "    else:\n",
    "        return 'Negative'"
   ]
  },
  {
   "cell_type": "code",
   "execution_count": 78,
   "id": "994839c0",
   "metadata": {},
   "outputs": [
    {
     "data": {
      "text/html": [
       "<div>\n",
       "<style scoped>\n",
       "    .dataframe tbody tr th:only-of-type {\n",
       "        vertical-align: middle;\n",
       "    }\n",
       "\n",
       "    .dataframe tbody tr th {\n",
       "        vertical-align: top;\n",
       "    }\n",
       "\n",
       "    .dataframe thead th {\n",
       "        text-align: right;\n",
       "    }\n",
       "</style>\n",
       "<table border=\"1\" class=\"dataframe\">\n",
       "  <thead>\n",
       "    <tr style=\"text-align: right;\">\n",
       "      <th></th>\n",
       "      <th>date</th>\n",
       "      <th>id</th>\n",
       "      <th>content</th>\n",
       "      <th>username</th>\n",
       "      <th>like_count</th>\n",
       "      <th>retweet_count</th>\n",
       "      <th>tweet</th>\n",
       "      <th>tokenized_tweet</th>\n",
       "      <th>no_stopwords</th>\n",
       "      <th>stemmed_tweets</th>\n",
       "      <th>lemmatized_tweets</th>\n",
       "      <th>sentiment</th>\n",
       "      <th>Subjectivity</th>\n",
       "      <th>Polarity</th>\n",
       "      <th>nltk_sentiment</th>\n",
       "    </tr>\n",
       "  </thead>\n",
       "  <tbody>\n",
       "    <tr>\n",
       "      <th>0</th>\n",
       "      <td>2023-03-29 22:58:21+00:00</td>\n",
       "      <td>1641213230730051584</td>\n",
       "      <td>Free AI marketing and automation tools, strate...</td>\n",
       "      <td>RealProfitPros</td>\n",
       "      <td>0.0</td>\n",
       "      <td>0.0</td>\n",
       "      <td>FreeAImarketingandautomationtoolsstrategiesand...</td>\n",
       "      <td>[freeaimarketingandautomationtoolsstrategiesan...</td>\n",
       "      <td>[freeaimarketingandautomationtoolsstrategiesan...</td>\n",
       "      <td>[freeaimarketingandautomationtoolsstrategiesan...</td>\n",
       "      <td>[freeaimarketingandautomationtoolsstrategiesan...</td>\n",
       "      <td>Neutral</td>\n",
       "      <td>0.0</td>\n",
       "      <td>0.0</td>\n",
       "      <td>Neutral</td>\n",
       "    </tr>\n",
       "    <tr>\n",
       "      <th>1</th>\n",
       "      <td>2023-03-29 22:58:18+00:00</td>\n",
       "      <td>1641213218520481805</td>\n",
       "      <td>@MecoleHardman4 Chat GPT says it’s 15. 😂</td>\n",
       "      <td>AmyLouWho321</td>\n",
       "      <td>0.0</td>\n",
       "      <td>0.0</td>\n",
       "      <td>ChatGPTsaysits15</td>\n",
       "      <td>[chatgptsaysits15]</td>\n",
       "      <td>[chatgptsaysits15]</td>\n",
       "      <td>[chatgptsaysits15]</td>\n",
       "      <td>[chatgptsaysits15]</td>\n",
       "      <td>Neutral</td>\n",
       "      <td>0.0</td>\n",
       "      <td>0.0</td>\n",
       "      <td>Neutral</td>\n",
       "    </tr>\n",
       "    <tr>\n",
       "      <th>2</th>\n",
       "      <td>2023-03-29 22:57:53+00:00</td>\n",
       "      <td>1641213115684536323</td>\n",
       "      <td>https://t.co/FjJSprt0te - Chat with any PDF!\\n...</td>\n",
       "      <td>yjleon1976</td>\n",
       "      <td>0.0</td>\n",
       "      <td>0.0</td>\n",
       "      <td>httpstcoFjJSprt0teChatwithanyPDF\\nCheckouthowt...</td>\n",
       "      <td>[httpstcofjjsprt0techatwithanypdf, checkouthow...</td>\n",
       "      <td>[httpstcofjjsprt0techatwithanypdf, checkouthow...</td>\n",
       "      <td>[httpstcofjjsprt0techatwithanypdf, checkouthow...</td>\n",
       "      <td>[httpstcofjjsprt0techatwithanypdf, checkouthow...</td>\n",
       "      <td>Neutral</td>\n",
       "      <td>0.0</td>\n",
       "      <td>0.0</td>\n",
       "      <td>Neutral</td>\n",
       "    </tr>\n",
       "    <tr>\n",
       "      <th>3</th>\n",
       "      <td>2023-03-29 22:57:52+00:00</td>\n",
       "      <td>1641213110915571715</td>\n",
       "      <td>AI muses: \"In the court of life, we must all f...</td>\n",
       "      <td>ChatGPT_Thinks</td>\n",
       "      <td>0.0</td>\n",
       "      <td>0.0</td>\n",
       "      <td>AImusesInthecourtoflifewemustallfacethejudgeof...</td>\n",
       "      <td>[aimusesinthecourtoflifewemustallfacethejudgeo...</td>\n",
       "      <td>[aimusesinthecourtoflifewemustallfacethejudgeo...</td>\n",
       "      <td>[aimusesinthecourtoflifewemustallfacethejudgeo...</td>\n",
       "      <td>[aimusesinthecourtoflifewemustallfacethejudgeo...</td>\n",
       "      <td>Neutral</td>\n",
       "      <td>0.0</td>\n",
       "      <td>0.0</td>\n",
       "      <td>Neutral</td>\n",
       "    </tr>\n",
       "    <tr>\n",
       "      <th>4</th>\n",
       "      <td>2023-03-29 22:57:26+00:00</td>\n",
       "      <td>1641213003260633088</td>\n",
       "      <td>Most people haven't heard of Chat GPT yet.\\nFi...</td>\n",
       "      <td>nikocosmonaut</td>\n",
       "      <td>0.0</td>\n",
       "      <td>0.0</td>\n",
       "      <td>MostpeoplehaventheardofChatGPTyet\\nFirstelitef...</td>\n",
       "      <td>[mostpeoplehaventheardofchatgptyet, firstelite...</td>\n",
       "      <td>[mostpeoplehaventheardofchatgptyet, firstelite...</td>\n",
       "      <td>[mostpeoplehaventheardofchatgptyet, firstelite...</td>\n",
       "      <td>[mostpeoplehaventheardofchatgptyet, firstelite...</td>\n",
       "      <td>Neutral</td>\n",
       "      <td>0.0</td>\n",
       "      <td>0.0</td>\n",
       "      <td>Neutral</td>\n",
       "    </tr>\n",
       "  </tbody>\n",
       "</table>\n",
       "</div>"
      ],
      "text/plain": [
       "                        date                   id  \\\n",
       "0  2023-03-29 22:58:21+00:00  1641213230730051584   \n",
       "1  2023-03-29 22:58:18+00:00  1641213218520481805   \n",
       "2  2023-03-29 22:57:53+00:00  1641213115684536323   \n",
       "3  2023-03-29 22:57:52+00:00  1641213110915571715   \n",
       "4  2023-03-29 22:57:26+00:00  1641213003260633088   \n",
       "\n",
       "                                             content        username  \\\n",
       "0  Free AI marketing and automation tools, strate...  RealProfitPros   \n",
       "1           @MecoleHardman4 Chat GPT says it’s 15. 😂    AmyLouWho321   \n",
       "2  https://t.co/FjJSprt0te - Chat with any PDF!\\n...      yjleon1976   \n",
       "3  AI muses: \"In the court of life, we must all f...  ChatGPT_Thinks   \n",
       "4  Most people haven't heard of Chat GPT yet.\\nFi...   nikocosmonaut   \n",
       "\n",
       "   like_count  retweet_count  \\\n",
       "0         0.0            0.0   \n",
       "1         0.0            0.0   \n",
       "2         0.0            0.0   \n",
       "3         0.0            0.0   \n",
       "4         0.0            0.0   \n",
       "\n",
       "                                               tweet  \\\n",
       "0  FreeAImarketingandautomationtoolsstrategiesand...   \n",
       "1                                   ChatGPTsaysits15   \n",
       "2  httpstcoFjJSprt0teChatwithanyPDF\\nCheckouthowt...   \n",
       "3  AImusesInthecourtoflifewemustallfacethejudgeof...   \n",
       "4  MostpeoplehaventheardofChatGPTyet\\nFirstelitef...   \n",
       "\n",
       "                                     tokenized_tweet  \\\n",
       "0  [freeaimarketingandautomationtoolsstrategiesan...   \n",
       "1                                 [chatgptsaysits15]   \n",
       "2  [httpstcofjjsprt0techatwithanypdf, checkouthow...   \n",
       "3  [aimusesinthecourtoflifewemustallfacethejudgeo...   \n",
       "4  [mostpeoplehaventheardofchatgptyet, firstelite...   \n",
       "\n",
       "                                        no_stopwords  \\\n",
       "0  [freeaimarketingandautomationtoolsstrategiesan...   \n",
       "1                                 [chatgptsaysits15]   \n",
       "2  [httpstcofjjsprt0techatwithanypdf, checkouthow...   \n",
       "3  [aimusesinthecourtoflifewemustallfacethejudgeo...   \n",
       "4  [mostpeoplehaventheardofchatgptyet, firstelite...   \n",
       "\n",
       "                                      stemmed_tweets  \\\n",
       "0  [freeaimarketingandautomationtoolsstrategiesan...   \n",
       "1                                 [chatgptsaysits15]   \n",
       "2  [httpstcofjjsprt0techatwithanypdf, checkouthow...   \n",
       "3  [aimusesinthecourtoflifewemustallfacethejudgeo...   \n",
       "4  [mostpeoplehaventheardofchatgptyet, firstelite...   \n",
       "\n",
       "                                   lemmatized_tweets sentiment  Subjectivity  \\\n",
       "0  [freeaimarketingandautomationtoolsstrategiesan...   Neutral           0.0   \n",
       "1                                 [chatgptsaysits15]   Neutral           0.0   \n",
       "2  [httpstcofjjsprt0techatwithanypdf, checkouthow...   Neutral           0.0   \n",
       "3  [aimusesinthecourtoflifewemustallfacethejudgeo...   Neutral           0.0   \n",
       "4  [mostpeoplehaventheardofchatgptyet, firstelite...   Neutral           0.0   \n",
       "\n",
       "   Polarity nltk_sentiment  \n",
       "0       0.0        Neutral  \n",
       "1       0.0        Neutral  \n",
       "2       0.0        Neutral  \n",
       "3       0.0        Neutral  \n",
       "4       0.0        Neutral  "
      ]
     },
     "execution_count": 78,
     "metadata": {},
     "output_type": "execute_result"
    }
   ],
   "source": [
    "df['nltk_sentiment'] = df['tweet'].apply(lambda x: sentiment_analyzer_scores(x))\n",
    "df.head()"
   ]
  },
  {
   "cell_type": "code",
   "execution_count": 79,
   "id": "7f998a15",
   "metadata": {},
   "outputs": [
    {
     "data": {
      "text/plain": [
       "Neutral     497423\n",
       "Positive      2155\n",
       "Negative       458\n",
       "Name: nltk_sentiment, dtype: int64"
      ]
     },
     "execution_count": 79,
     "metadata": {},
     "output_type": "execute_result"
    }
   ],
   "source": [
    "df[\"nltk_sentiment\"].value_counts()"
   ]
  },
  {
   "cell_type": "code",
   "execution_count": 80,
   "id": "8140228e",
   "metadata": {},
   "outputs": [
    {
     "data": {
      "text/plain": [
       "Neutral     498719\n",
       "Positive      1021\n",
       "Negetive       296\n",
       "Name: sentiment, dtype: int64"
      ]
     },
     "execution_count": 80,
     "metadata": {},
     "output_type": "execute_result"
    }
   ],
   "source": [
    "df['sentiment'].value_counts()"
   ]
  },
  {
   "cell_type": "code",
   "execution_count": 81,
   "id": "22b6384e",
   "metadata": {},
   "outputs": [],
   "source": [
    "# Here we can observe that NLTK is better than TextBlob"
   ]
  },
  {
   "cell_type": "code",
   "execution_count": 82,
   "id": "355108ae",
   "metadata": {},
   "outputs": [
    {
     "data": {
      "text/html": [
       "<div>\n",
       "<style scoped>\n",
       "    .dataframe tbody tr th:only-of-type {\n",
       "        vertical-align: middle;\n",
       "    }\n",
       "\n",
       "    .dataframe tbody tr th {\n",
       "        vertical-align: top;\n",
       "    }\n",
       "\n",
       "    .dataframe thead th {\n",
       "        text-align: right;\n",
       "    }\n",
       "</style>\n",
       "<table border=\"1\" class=\"dataframe\">\n",
       "  <thead>\n",
       "    <tr style=\"text-align: right;\">\n",
       "      <th></th>\n",
       "      <th>date</th>\n",
       "      <th>id</th>\n",
       "      <th>content</th>\n",
       "      <th>username</th>\n",
       "      <th>like_count</th>\n",
       "      <th>retweet_count</th>\n",
       "      <th>tweet</th>\n",
       "      <th>tokenized_tweet</th>\n",
       "      <th>no_stopwords</th>\n",
       "      <th>stemmed_tweets</th>\n",
       "      <th>lemmatized_tweets</th>\n",
       "      <th>sentiment</th>\n",
       "      <th>Subjectivity</th>\n",
       "      <th>Polarity</th>\n",
       "      <th>nltk_sentiment</th>\n",
       "    </tr>\n",
       "  </thead>\n",
       "  <tbody>\n",
       "    <tr>\n",
       "      <th>0</th>\n",
       "      <td>2023-03-29 22:58:21+00:00</td>\n",
       "      <td>1641213230730051584</td>\n",
       "      <td>Free AI marketing and automation tools, strate...</td>\n",
       "      <td>RealProfitPros</td>\n",
       "      <td>0.0</td>\n",
       "      <td>0.0</td>\n",
       "      <td>FreeAImarketingandautomationtoolsstrategiesand...</td>\n",
       "      <td>[freeaimarketingandautomationtoolsstrategiesan...</td>\n",
       "      <td>[freeaimarketingandautomationtoolsstrategiesan...</td>\n",
       "      <td>[freeaimarketingandautomationtoolsstrategiesan...</td>\n",
       "      <td>[freeaimarketingandautomationtoolsstrategiesan...</td>\n",
       "      <td>Neutral</td>\n",
       "      <td>0.0</td>\n",
       "      <td>0.0</td>\n",
       "      <td>Neutral</td>\n",
       "    </tr>\n",
       "    <tr>\n",
       "      <th>1</th>\n",
       "      <td>2023-03-29 22:58:18+00:00</td>\n",
       "      <td>1641213218520481805</td>\n",
       "      <td>@MecoleHardman4 Chat GPT says it’s 15. 😂</td>\n",
       "      <td>AmyLouWho321</td>\n",
       "      <td>0.0</td>\n",
       "      <td>0.0</td>\n",
       "      <td>ChatGPTsaysits15</td>\n",
       "      <td>[chatgptsaysits15]</td>\n",
       "      <td>[chatgptsaysits15]</td>\n",
       "      <td>[chatgptsaysits15]</td>\n",
       "      <td>[chatgptsaysits15]</td>\n",
       "      <td>Neutral</td>\n",
       "      <td>0.0</td>\n",
       "      <td>0.0</td>\n",
       "      <td>Neutral</td>\n",
       "    </tr>\n",
       "    <tr>\n",
       "      <th>2</th>\n",
       "      <td>2023-03-29 22:57:53+00:00</td>\n",
       "      <td>1641213115684536323</td>\n",
       "      <td>https://t.co/FjJSprt0te - Chat with any PDF!\\n...</td>\n",
       "      <td>yjleon1976</td>\n",
       "      <td>0.0</td>\n",
       "      <td>0.0</td>\n",
       "      <td>httpstcoFjJSprt0teChatwithanyPDF\\nCheckouthowt...</td>\n",
       "      <td>[httpstcofjjsprt0techatwithanypdf, checkouthow...</td>\n",
       "      <td>[httpstcofjjsprt0techatwithanypdf, checkouthow...</td>\n",
       "      <td>[httpstcofjjsprt0techatwithanypdf, checkouthow...</td>\n",
       "      <td>[httpstcofjjsprt0techatwithanypdf, checkouthow...</td>\n",
       "      <td>Neutral</td>\n",
       "      <td>0.0</td>\n",
       "      <td>0.0</td>\n",
       "      <td>Neutral</td>\n",
       "    </tr>\n",
       "    <tr>\n",
       "      <th>3</th>\n",
       "      <td>2023-03-29 22:57:52+00:00</td>\n",
       "      <td>1641213110915571715</td>\n",
       "      <td>AI muses: \"In the court of life, we must all f...</td>\n",
       "      <td>ChatGPT_Thinks</td>\n",
       "      <td>0.0</td>\n",
       "      <td>0.0</td>\n",
       "      <td>AImusesInthecourtoflifewemustallfacethejudgeof...</td>\n",
       "      <td>[aimusesinthecourtoflifewemustallfacethejudgeo...</td>\n",
       "      <td>[aimusesinthecourtoflifewemustallfacethejudgeo...</td>\n",
       "      <td>[aimusesinthecourtoflifewemustallfacethejudgeo...</td>\n",
       "      <td>[aimusesinthecourtoflifewemustallfacethejudgeo...</td>\n",
       "      <td>Neutral</td>\n",
       "      <td>0.0</td>\n",
       "      <td>0.0</td>\n",
       "      <td>Neutral</td>\n",
       "    </tr>\n",
       "    <tr>\n",
       "      <th>4</th>\n",
       "      <td>2023-03-29 22:57:26+00:00</td>\n",
       "      <td>1641213003260633088</td>\n",
       "      <td>Most people haven't heard of Chat GPT yet.\\nFi...</td>\n",
       "      <td>nikocosmonaut</td>\n",
       "      <td>0.0</td>\n",
       "      <td>0.0</td>\n",
       "      <td>MostpeoplehaventheardofChatGPTyet\\nFirstelitef...</td>\n",
       "      <td>[mostpeoplehaventheardofchatgptyet, firstelite...</td>\n",
       "      <td>[mostpeoplehaventheardofchatgptyet, firstelite...</td>\n",
       "      <td>[mostpeoplehaventheardofchatgptyet, firstelite...</td>\n",
       "      <td>[mostpeoplehaventheardofchatgptyet, firstelite...</td>\n",
       "      <td>Neutral</td>\n",
       "      <td>0.0</td>\n",
       "      <td>0.0</td>\n",
       "      <td>Neutral</td>\n",
       "    </tr>\n",
       "  </tbody>\n",
       "</table>\n",
       "</div>"
      ],
      "text/plain": [
       "                        date                   id  \\\n",
       "0  2023-03-29 22:58:21+00:00  1641213230730051584   \n",
       "1  2023-03-29 22:58:18+00:00  1641213218520481805   \n",
       "2  2023-03-29 22:57:53+00:00  1641213115684536323   \n",
       "3  2023-03-29 22:57:52+00:00  1641213110915571715   \n",
       "4  2023-03-29 22:57:26+00:00  1641213003260633088   \n",
       "\n",
       "                                             content        username  \\\n",
       "0  Free AI marketing and automation tools, strate...  RealProfitPros   \n",
       "1           @MecoleHardman4 Chat GPT says it’s 15. 😂    AmyLouWho321   \n",
       "2  https://t.co/FjJSprt0te - Chat with any PDF!\\n...      yjleon1976   \n",
       "3  AI muses: \"In the court of life, we must all f...  ChatGPT_Thinks   \n",
       "4  Most people haven't heard of Chat GPT yet.\\nFi...   nikocosmonaut   \n",
       "\n",
       "   like_count  retweet_count  \\\n",
       "0         0.0            0.0   \n",
       "1         0.0            0.0   \n",
       "2         0.0            0.0   \n",
       "3         0.0            0.0   \n",
       "4         0.0            0.0   \n",
       "\n",
       "                                               tweet  \\\n",
       "0  FreeAImarketingandautomationtoolsstrategiesand...   \n",
       "1                                   ChatGPTsaysits15   \n",
       "2  httpstcoFjJSprt0teChatwithanyPDF\\nCheckouthowt...   \n",
       "3  AImusesInthecourtoflifewemustallfacethejudgeof...   \n",
       "4  MostpeoplehaventheardofChatGPTyet\\nFirstelitef...   \n",
       "\n",
       "                                     tokenized_tweet  \\\n",
       "0  [freeaimarketingandautomationtoolsstrategiesan...   \n",
       "1                                 [chatgptsaysits15]   \n",
       "2  [httpstcofjjsprt0techatwithanypdf, checkouthow...   \n",
       "3  [aimusesinthecourtoflifewemustallfacethejudgeo...   \n",
       "4  [mostpeoplehaventheardofchatgptyet, firstelite...   \n",
       "\n",
       "                                        no_stopwords  \\\n",
       "0  [freeaimarketingandautomationtoolsstrategiesan...   \n",
       "1                                 [chatgptsaysits15]   \n",
       "2  [httpstcofjjsprt0techatwithanypdf, checkouthow...   \n",
       "3  [aimusesinthecourtoflifewemustallfacethejudgeo...   \n",
       "4  [mostpeoplehaventheardofchatgptyet, firstelite...   \n",
       "\n",
       "                                      stemmed_tweets  \\\n",
       "0  [freeaimarketingandautomationtoolsstrategiesan...   \n",
       "1                                 [chatgptsaysits15]   \n",
       "2  [httpstcofjjsprt0techatwithanypdf, checkouthow...   \n",
       "3  [aimusesinthecourtoflifewemustallfacethejudgeo...   \n",
       "4  [mostpeoplehaventheardofchatgptyet, firstelite...   \n",
       "\n",
       "                                   lemmatized_tweets sentiment  Subjectivity  \\\n",
       "0  [freeaimarketingandautomationtoolsstrategiesan...   Neutral           0.0   \n",
       "1                                 [chatgptsaysits15]   Neutral           0.0   \n",
       "2  [httpstcofjjsprt0techatwithanypdf, checkouthow...   Neutral           0.0   \n",
       "3  [aimusesinthecourtoflifewemustallfacethejudgeo...   Neutral           0.0   \n",
       "4  [mostpeoplehaventheardofchatgptyet, firstelite...   Neutral           0.0   \n",
       "\n",
       "   Polarity nltk_sentiment  \n",
       "0       0.0        Neutral  \n",
       "1       0.0        Neutral  \n",
       "2       0.0        Neutral  \n",
       "3       0.0        Neutral  \n",
       "4       0.0        Neutral  "
      ]
     },
     "execution_count": 82,
     "metadata": {},
     "output_type": "execute_result"
    }
   ],
   "source": [
    "df['sentiment'] = df['nltk_sentiment']\n",
    "df.head()"
   ]
  },
  {
   "cell_type": "code",
   "execution_count": 83,
   "id": "bb02af56",
   "metadata": {},
   "outputs": [],
   "source": [
    "#Rebuilding the Model"
   ]
  },
  {
   "cell_type": "code",
   "execution_count": 84,
   "id": "730c5949",
   "metadata": {},
   "outputs": [],
   "source": [
    "X = df['tweet']\n",
    "y = df['sentiment']"
   ]
  },
  {
   "cell_type": "code",
   "execution_count": 85,
   "id": "c24dc26d",
   "metadata": {},
   "outputs": [],
   "source": [
    "X_train, X_test, y_train, y_test = train_test_split(X,y,test_size=0.2)"
   ]
  },
  {
   "cell_type": "code",
   "execution_count": 87,
   "id": "82b4c8fb",
   "metadata": {},
   "outputs": [],
   "source": [
    "new_text_clf = Pipeline([('tfidf', TfidfVectorizer()),\n",
    "                        ('clf', LinearSVC()),\n",
    "])"
   ]
  },
  {
   "cell_type": "code",
   "execution_count": 88,
   "id": "33710463",
   "metadata": {},
   "outputs": [
    {
     "data": {
      "text/html": [
       "<style>#sk-container-id-3 {color: black;background-color: white;}#sk-container-id-3 pre{padding: 0;}#sk-container-id-3 div.sk-toggleable {background-color: white;}#sk-container-id-3 label.sk-toggleable__label {cursor: pointer;display: block;width: 100%;margin-bottom: 0;padding: 0.3em;box-sizing: border-box;text-align: center;}#sk-container-id-3 label.sk-toggleable__label-arrow:before {content: \"▸\";float: left;margin-right: 0.25em;color: #696969;}#sk-container-id-3 label.sk-toggleable__label-arrow:hover:before {color: black;}#sk-container-id-3 div.sk-estimator:hover label.sk-toggleable__label-arrow:before {color: black;}#sk-container-id-3 div.sk-toggleable__content {max-height: 0;max-width: 0;overflow: hidden;text-align: left;background-color: #f0f8ff;}#sk-container-id-3 div.sk-toggleable__content pre {margin: 0.2em;color: black;border-radius: 0.25em;background-color: #f0f8ff;}#sk-container-id-3 input.sk-toggleable__control:checked~div.sk-toggleable__content {max-height: 200px;max-width: 100%;overflow: auto;}#sk-container-id-3 input.sk-toggleable__control:checked~label.sk-toggleable__label-arrow:before {content: \"▾\";}#sk-container-id-3 div.sk-estimator input.sk-toggleable__control:checked~label.sk-toggleable__label {background-color: #d4ebff;}#sk-container-id-3 div.sk-label input.sk-toggleable__control:checked~label.sk-toggleable__label {background-color: #d4ebff;}#sk-container-id-3 input.sk-hidden--visually {border: 0;clip: rect(1px 1px 1px 1px);clip: rect(1px, 1px, 1px, 1px);height: 1px;margin: -1px;overflow: hidden;padding: 0;position: absolute;width: 1px;}#sk-container-id-3 div.sk-estimator {font-family: monospace;background-color: #f0f8ff;border: 1px dotted black;border-radius: 0.25em;box-sizing: border-box;margin-bottom: 0.5em;}#sk-container-id-3 div.sk-estimator:hover {background-color: #d4ebff;}#sk-container-id-3 div.sk-parallel-item::after {content: \"\";width: 100%;border-bottom: 1px solid gray;flex-grow: 1;}#sk-container-id-3 div.sk-label:hover label.sk-toggleable__label {background-color: #d4ebff;}#sk-container-id-3 div.sk-serial::before {content: \"\";position: absolute;border-left: 1px solid gray;box-sizing: border-box;top: 0;bottom: 0;left: 50%;z-index: 0;}#sk-container-id-3 div.sk-serial {display: flex;flex-direction: column;align-items: center;background-color: white;padding-right: 0.2em;padding-left: 0.2em;position: relative;}#sk-container-id-3 div.sk-item {position: relative;z-index: 1;}#sk-container-id-3 div.sk-parallel {display: flex;align-items: stretch;justify-content: center;background-color: white;position: relative;}#sk-container-id-3 div.sk-item::before, #sk-container-id-3 div.sk-parallel-item::before {content: \"\";position: absolute;border-left: 1px solid gray;box-sizing: border-box;top: 0;bottom: 0;left: 50%;z-index: -1;}#sk-container-id-3 div.sk-parallel-item {display: flex;flex-direction: column;z-index: 1;position: relative;background-color: white;}#sk-container-id-3 div.sk-parallel-item:first-child::after {align-self: flex-end;width: 50%;}#sk-container-id-3 div.sk-parallel-item:last-child::after {align-self: flex-start;width: 50%;}#sk-container-id-3 div.sk-parallel-item:only-child::after {width: 0;}#sk-container-id-3 div.sk-dashed-wrapped {border: 1px dashed gray;margin: 0 0.4em 0.5em 0.4em;box-sizing: border-box;padding-bottom: 0.4em;background-color: white;}#sk-container-id-3 div.sk-label label {font-family: monospace;font-weight: bold;display: inline-block;line-height: 1.2em;}#sk-container-id-3 div.sk-label-container {text-align: center;}#sk-container-id-3 div.sk-container {/* jupyter's `normalize.less` sets `[hidden] { display: none; }` but bootstrap.min.css set `[hidden] { display: none !important; }` so we also need the `!important` here to be able to override the default hidden behavior on the sphinx rendered scikit-learn.org. See: https://github.com/scikit-learn/scikit-learn/issues/21755 */display: inline-block !important;position: relative;}#sk-container-id-3 div.sk-text-repr-fallback {display: none;}</style><div id=\"sk-container-id-3\" class=\"sk-top-container\"><div class=\"sk-text-repr-fallback\"><pre>Pipeline(steps=[(&#x27;tfidf&#x27;, TfidfVectorizer()), (&#x27;clf&#x27;, LinearSVC())])</pre><b>In a Jupyter environment, please rerun this cell to show the HTML representation or trust the notebook. <br />On GitHub, the HTML representation is unable to render, please try loading this page with nbviewer.org.</b></div><div class=\"sk-container\" hidden><div class=\"sk-item sk-dashed-wrapped\"><div class=\"sk-label-container\"><div class=\"sk-label sk-toggleable\"><input class=\"sk-toggleable__control sk-hidden--visually\" id=\"sk-estimator-id-7\" type=\"checkbox\" ><label for=\"sk-estimator-id-7\" class=\"sk-toggleable__label sk-toggleable__label-arrow\">Pipeline</label><div class=\"sk-toggleable__content\"><pre>Pipeline(steps=[(&#x27;tfidf&#x27;, TfidfVectorizer()), (&#x27;clf&#x27;, LinearSVC())])</pre></div></div></div><div class=\"sk-serial\"><div class=\"sk-item\"><div class=\"sk-estimator sk-toggleable\"><input class=\"sk-toggleable__control sk-hidden--visually\" id=\"sk-estimator-id-8\" type=\"checkbox\" ><label for=\"sk-estimator-id-8\" class=\"sk-toggleable__label sk-toggleable__label-arrow\">TfidfVectorizer</label><div class=\"sk-toggleable__content\"><pre>TfidfVectorizer()</pre></div></div></div><div class=\"sk-item\"><div class=\"sk-estimator sk-toggleable\"><input class=\"sk-toggleable__control sk-hidden--visually\" id=\"sk-estimator-id-9\" type=\"checkbox\" ><label for=\"sk-estimator-id-9\" class=\"sk-toggleable__label sk-toggleable__label-arrow\">LinearSVC</label><div class=\"sk-toggleable__content\"><pre>LinearSVC()</pre></div></div></div></div></div></div></div>"
      ],
      "text/plain": [
       "Pipeline(steps=[('tfidf', TfidfVectorizer()), ('clf', LinearSVC())])"
      ]
     },
     "execution_count": 88,
     "metadata": {},
     "output_type": "execute_result"
    }
   ],
   "source": [
    "new_text_clf.fit(X_train,y_train)"
   ]
  },
  {
   "cell_type": "code",
   "execution_count": 89,
   "id": "07ea2f96",
   "metadata": {},
   "outputs": [],
   "source": [
    "new_predictions = new_text_clf.predict(X_test)"
   ]
  },
  {
   "cell_type": "code",
   "execution_count": 107,
   "id": "4fb04072",
   "metadata": {},
   "outputs": [
    {
     "name": "stdout",
     "output_type": "stream",
     "text": [
      "[[   47    48     1]\n",
      " [    1 99454     0]\n",
      " [    1    56   400]]\n",
      "              precision    recall  f1-score   support\n",
      "\n",
      "    Negative       0.96      0.49      0.65        96\n",
      "     Neutral       1.00      1.00      1.00     99455\n",
      "    Positive       1.00      0.88      0.93       457\n",
      "\n",
      "    accuracy                           1.00    100008\n",
      "   macro avg       0.99      0.79      0.86    100008\n",
      "weighted avg       1.00      1.00      1.00    100008\n",
      "\n",
      "0.9989300855931526\n"
     ]
    }
   ],
   "source": [
    "print(confusion_matrix(y_test,new_predictions))\n",
    "print(classification_report(y_test,new_predictions))\n",
    "print(accuracy_score(y_test, new_predictions))"
   ]
  },
  {
   "cell_type": "code",
   "execution_count": 108,
   "id": "24dba47d",
   "metadata": {},
   "outputs": [
    {
     "data": {
      "text/plain": [
       "Text(0, 0.5, 'Count')"
      ]
     },
     "execution_count": 108,
     "metadata": {},
     "output_type": "execute_result"
    },
    {
     "data": {
      "image/png": "[encoded data removed]",
      "text/plain": [
       "<Figure size 720x432 with 1 Axes>"
      ]
     },
     "metadata": {
      "needs_background": "light"
     },
     "output_type": "display_data"
    }
   ],
   "source": [
    "plt.figure(figsize=(10,6))\n",
    "sns.countplot(x=new_predictions, data=df)\n",
    "plt.xlabel(\"Sentiment\")\n",
    "plt.ylabel(\"Count\")"
   ]
  },
  {
   "cell_type": "code",
   "execution_count": 109,
   "id": "9c92a057",
   "metadata": {},
   "outputs": [],
   "source": [
    "from sklearn.metrics import roc_curve, auc\n",
    "\n",
    "y_score = new_text_clf.decision_function(X_test)\n",
    "\n",
    "fpr, tpr, _ = roc_curve(y_test, y_score[:,1], pos_label=new_text_clf.classes_[1])\n",
    "roc_auc = auc(fpr, tpr)"
   ]
  },
  {
   "cell_type": "code",
   "execution_count": 110,
   "id": "467a25ec",
   "metadata": {},
   "outputs": [
    {
     "data": {
      "text/plain": [
       "<matplotlib.legend.Legend at 0x1e020d3e440>"
      ]
     },
     "execution_count": 110,
     "metadata": {},
     "output_type": "execute_result"
    },
    {
     "data": {
      "image/png": "[encoded data removed]",
      "text/plain": [
       "<Figure size 432x288 with 1 Axes>"
      ]
     },
     "metadata": {
      "needs_background": "light"
     },
     "output_type": "display_data"
    }
   ],
   "source": [
    "plt.plot(fpr, tpr, color='darkorange', lw=2, label='ROC curve (area = %0.2f)' % roc_auc)\n",
    "plt.plot([0,1], [0,1], color='navy', lw=2, linestyle='--')\n",
    "plt.xlabel('False Positive Rate')\n",
    "plt.ylabel('True Positive Rate')\n",
    "plt.title('ROC Curve')\n",
    "plt.legend(loc=\"lower right\")"
   ]
  },
  {
   "cell_type": "code",
   "execution_count": 111,
   "id": "2235c601",
   "metadata": {},
   "outputs": [
    {
     "data": {
      "text/plain": [
       "array(['Positive'], dtype=object)"
      ]
     },
     "execution_count": 111,
     "metadata": {},
     "output_type": "execute_result"
    }
   ],
   "source": [
    "new_text_clf.predict(['I love ChatGPT'])"
   ]
  },
  {
   "cell_type": "code",
   "execution_count": 112,
   "id": "8394ff33",
   "metadata": {},
   "outputs": [
    {
     "data": {
      "text/plain": [
       "array(['Neutral'], dtype=object)"
      ]
     },
     "execution_count": 112,
     "metadata": {},
     "output_type": "execute_result"
    }
   ],
   "source": [
    "new_text_clf.predict(['ChatGPT is okayish'])"
   ]
  },
  {
   "cell_type": "code",
   "execution_count": 113,
   "id": "7ec6a26a",
   "metadata": {},
   "outputs": [],
   "source": [
    "import pickle\n",
    "\n",
    "with open('TextBlob_model.pickle','wb') as file:\n",
    "    pickle.dump(text_clf,file)"
   ]
  },
  {
   "cell_type": "code",
   "execution_count": 114,
   "id": "8e7cef59",
   "metadata": {},
   "outputs": [],
   "source": [
    "import pickle\n",
    "\n",
    "with open('NLTK_model.pickle','wb') as file:\n",
    "    pickle.dump(new_text_clf,file)"
   ]
  },
  {
   "cell_type": "code",
   "execution_count": null,
   "id": "2555e6c3",
   "metadata": {},
   "outputs": [],
   "source": []
  }
 ],
 "metadata": {
  "kernelspec": {
   "display_name": "Python 3 (ipykernel)",
   "language": "python",
   "name": "python3"
  },
  "language_info": {
   "codemirror_mode": {
    "name": "ipython",
    "version": 3
   },
   "file_extension": ".py",
   "mimetype": "text/x-python",
   "name": "python",
   "nbconvert_exporter": "python",
   "pygments_lexer": "ipython3",
   "version": "3.10.3"
  }
 },
 "nbformat": 4,
 "nbformat_minor": 5
}
